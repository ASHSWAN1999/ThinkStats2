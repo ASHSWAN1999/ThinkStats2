{
 "cells": [
  {
   "cell_type": "markdown",
   "metadata": {},
   "source": [
    "# GroupBy examples\n",
    "\n",
    "Allen Downey\n",
    "\n",
    "[MIT License](https://en.wikipedia.org/wiki/MIT_License)"
   ]
  },
  {
   "cell_type": "code",
   "execution_count": 1,
   "metadata": {},
   "outputs": [],
   "source": [
    "%matplotlib inline\n",
    "\n",
    "import pandas as pd\n",
    "import numpy as np\n",
    "\n",
    "import matplotlib.pyplot as plt\n",
    "import seaborn as sns\n",
    "sns.set(style='white')\n",
    "\n",
    "from thinkstats2 import Pmf, Cdf\n",
    "\n",
    "import thinkstats2\n",
    "import thinkplot\n",
    "\n",
    "decorate = thinkplot.config"
   ]
  },
  {
   "cell_type": "markdown",
   "metadata": {},
   "source": [
    "Let's load the GSS dataset."
   ]
  },
  {
   "cell_type": "code",
   "execution_count": 4,
   "metadata": {},
   "outputs": [
    {
     "name": "stdout",
     "output_type": "stream",
     "text": [
      "CPU times: user 7.64 ms, sys: 19.9 ms, total: 27.5 ms\n",
      "Wall time: 26.5 ms\n"
     ]
    },
    {
     "data": {
      "text/html": [
       "<div>\n",
       "<style>\n",
       "    .dataframe thead tr:only-child th {\n",
       "        text-align: right;\n",
       "    }\n",
       "\n",
       "    .dataframe thead th {\n",
       "        text-align: left;\n",
       "    }\n",
       "\n",
       "    .dataframe tbody tr th {\n",
       "        vertical-align: top;\n",
       "    }\n",
       "</style>\n",
       "<table border=\"1\" class=\"dataframe\">\n",
       "  <thead>\n",
       "    <tr style=\"text-align: right;\">\n",
       "      <th></th>\n",
       "      <th>year</th>\n",
       "      <th>id_</th>\n",
       "      <th>agewed</th>\n",
       "      <th>divorce</th>\n",
       "      <th>sibs</th>\n",
       "      <th>childs</th>\n",
       "      <th>age</th>\n",
       "      <th>educ</th>\n",
       "      <th>paeduc</th>\n",
       "      <th>maeduc</th>\n",
       "      <th>...</th>\n",
       "      <th>memchurh</th>\n",
       "      <th>realinc</th>\n",
       "      <th>cohort</th>\n",
       "      <th>marcohrt</th>\n",
       "      <th>ballot</th>\n",
       "      <th>wtssall</th>\n",
       "      <th>adults</th>\n",
       "      <th>compuse</th>\n",
       "      <th>databank</th>\n",
       "      <th>wtssnr</th>\n",
       "    </tr>\n",
       "  </thead>\n",
       "  <tbody>\n",
       "    <tr>\n",
       "      <th>0</th>\n",
       "      <td>1972</td>\n",
       "      <td>167</td>\n",
       "      <td>0</td>\n",
       "      <td>0</td>\n",
       "      <td>2</td>\n",
       "      <td>0</td>\n",
       "      <td>26.0</td>\n",
       "      <td>18.0</td>\n",
       "      <td>12</td>\n",
       "      <td>12</td>\n",
       "      <td>...</td>\n",
       "      <td>0</td>\n",
       "      <td>13537.0</td>\n",
       "      <td>1946.0</td>\n",
       "      <td>0</td>\n",
       "      <td>0</td>\n",
       "      <td>0.8893</td>\n",
       "      <td>2.0</td>\n",
       "      <td>0</td>\n",
       "      <td>0</td>\n",
       "      <td>1.0</td>\n",
       "    </tr>\n",
       "    <tr>\n",
       "      <th>1</th>\n",
       "      <td>1972</td>\n",
       "      <td>1256</td>\n",
       "      <td>30</td>\n",
       "      <td>2</td>\n",
       "      <td>0</td>\n",
       "      <td>1</td>\n",
       "      <td>38.0</td>\n",
       "      <td>12.0</td>\n",
       "      <td>97</td>\n",
       "      <td>99</td>\n",
       "      <td>...</td>\n",
       "      <td>0</td>\n",
       "      <td>18951.0</td>\n",
       "      <td>1934.0</td>\n",
       "      <td>1964</td>\n",
       "      <td>0</td>\n",
       "      <td>0.4446</td>\n",
       "      <td>1.0</td>\n",
       "      <td>0</td>\n",
       "      <td>0</td>\n",
       "      <td>1.0</td>\n",
       "    </tr>\n",
       "    <tr>\n",
       "      <th>2</th>\n",
       "      <td>1972</td>\n",
       "      <td>415</td>\n",
       "      <td>0</td>\n",
       "      <td>0</td>\n",
       "      <td>7</td>\n",
       "      <td>0</td>\n",
       "      <td>57.0</td>\n",
       "      <td>12.0</td>\n",
       "      <td>7</td>\n",
       "      <td>7</td>\n",
       "      <td>...</td>\n",
       "      <td>0</td>\n",
       "      <td>30458.0</td>\n",
       "      <td>1915.0</td>\n",
       "      <td>0</td>\n",
       "      <td>0</td>\n",
       "      <td>1.3339</td>\n",
       "      <td>3.0</td>\n",
       "      <td>0</td>\n",
       "      <td>0</td>\n",
       "      <td>1.0</td>\n",
       "    </tr>\n",
       "    <tr>\n",
       "      <th>3</th>\n",
       "      <td>1972</td>\n",
       "      <td>234</td>\n",
       "      <td>18</td>\n",
       "      <td>1</td>\n",
       "      <td>6</td>\n",
       "      <td>3</td>\n",
       "      <td>61.0</td>\n",
       "      <td>14.0</td>\n",
       "      <td>8</td>\n",
       "      <td>5</td>\n",
       "      <td>...</td>\n",
       "      <td>0</td>\n",
       "      <td>37226.0</td>\n",
       "      <td>1911.0</td>\n",
       "      <td>1929</td>\n",
       "      <td>0</td>\n",
       "      <td>0.8893</td>\n",
       "      <td>2.0</td>\n",
       "      <td>0</td>\n",
       "      <td>0</td>\n",
       "      <td>1.0</td>\n",
       "    </tr>\n",
       "    <tr>\n",
       "      <th>4</th>\n",
       "      <td>1972</td>\n",
       "      <td>554</td>\n",
       "      <td>22</td>\n",
       "      <td>2</td>\n",
       "      <td>3</td>\n",
       "      <td>3</td>\n",
       "      <td>59.0</td>\n",
       "      <td>12.0</td>\n",
       "      <td>6</td>\n",
       "      <td>11</td>\n",
       "      <td>...</td>\n",
       "      <td>0</td>\n",
       "      <td>30458.0</td>\n",
       "      <td>1913.0</td>\n",
       "      <td>1935</td>\n",
       "      <td>0</td>\n",
       "      <td>0.8893</td>\n",
       "      <td>2.0</td>\n",
       "      <td>0</td>\n",
       "      <td>0</td>\n",
       "      <td>1.0</td>\n",
       "    </tr>\n",
       "  </tbody>\n",
       "</table>\n",
       "<p>5 rows × 101 columns</p>\n",
       "</div>"
      ],
      "text/plain": [
       "   year   id_  agewed  divorce  sibs  childs   age  educ  paeduc  maeduc  \\\n",
       "0  1972   167       0        0     2       0  26.0  18.0      12      12   \n",
       "1  1972  1256      30        2     0       1  38.0  12.0      97      99   \n",
       "2  1972   415       0        0     7       0  57.0  12.0       7       7   \n",
       "3  1972   234      18        1     6       3  61.0  14.0       8       5   \n",
       "4  1972   554      22        2     3       3  59.0  12.0       6      11   \n",
       "\n",
       "    ...    memchurh  realinc  cohort  marcohrt  ballot  wtssall  adults  \\\n",
       "0   ...           0  13537.0  1946.0         0       0   0.8893     2.0   \n",
       "1   ...           0  18951.0  1934.0      1964       0   0.4446     1.0   \n",
       "2   ...           0  30458.0  1915.0         0       0   1.3339     3.0   \n",
       "3   ...           0  37226.0  1911.0      1929       0   0.8893     2.0   \n",
       "4   ...           0  30458.0  1913.0      1935       0   0.8893     2.0   \n",
       "\n",
       "   compuse  databank  wtssnr  \n",
       "0        0         0     1.0  \n",
       "1        0         0     1.0  \n",
       "2        0         0     1.0  \n",
       "3        0         0     1.0  \n",
       "4        0         0     1.0  \n",
       "\n",
       "[5 rows x 101 columns]"
      ]
     },
     "execution_count": 4,
     "metadata": {},
     "output_type": "execute_result"
    }
   ],
   "source": [
    "%time gss = pd.read_hdf('../homeworks/gss.hdf5', 'gss')\n",
    "gss.head()"
   ]
  },
  {
   "cell_type": "code",
   "execution_count": 5,
   "metadata": {},
   "outputs": [],
   "source": [
    "def counts(series):\n",
    "    return series.value_counts(sort=False).sort_index()"
   ]
  },
  {
   "cell_type": "markdown",
   "metadata": {},
   "source": [
    "The GSS interviews a few thousand respondents each year."
   ]
  },
  {
   "cell_type": "code",
   "execution_count": 6,
   "metadata": {},
   "outputs": [
    {
     "data": {
      "text/plain": [
       "1972    1613\n",
       "1973    1504\n",
       "1974    1484\n",
       "1975    1490\n",
       "1976    1499\n",
       "1977    1530\n",
       "1978    1532\n",
       "1980    1468\n",
       "1982    1860\n",
       "1983    1599\n",
       "1984    1473\n",
       "1985    1534\n",
       "1986    1470\n",
       "1987    1819\n",
       "1988    1481\n",
       "1989    1537\n",
       "1990    1372\n",
       "1991    1517\n",
       "1993    1606\n",
       "1994    2992\n",
       "1996    2904\n",
       "1998    2832\n",
       "2000    2817\n",
       "2002    2765\n",
       "2004    2812\n",
       "2006    4510\n",
       "2008    2023\n",
       "2010    2044\n",
       "2012    1974\n",
       "2014    2538\n",
       "2016    2867\n",
       "Name: year, dtype: int64"
      ]
     },
     "execution_count": 6,
     "metadata": {},
     "output_type": "execute_result"
    }
   ],
   "source": [
    "counts(gss['year'])"
   ]
  },
  {
   "cell_type": "markdown",
   "metadata": {},
   "source": [
    "One of the [questions](https://gssdataexplorer.norc.org/projects/52787/variables/285/vshow) they ask is \"Do you think the use of marijuana should be made legal or not?\"\n",
    "\n",
    "The answer codes are:\n",
    "\n",
    "```\n",
    "1\tLegal\n",
    "2\tNot legal\n",
    "8\tDon't know\n",
    "9\tNo answer\n",
    "0\tNot applicable\n",
    "```\n",
    "\n",
    "Here is the distribution of responses for all years."
   ]
  },
  {
   "cell_type": "code",
   "execution_count": 7,
   "metadata": {},
   "outputs": [
    {
     "data": {
      "text/plain": [
       "0    24398\n",
       "1    11027\n",
       "2    25195\n",
       "8     1733\n",
       "9      113\n",
       "Name: grass, dtype: int64"
      ]
     },
     "execution_count": 7,
     "metadata": {},
     "output_type": "execute_result"
    }
   ],
   "source": [
    "counts(gss['grass'])"
   ]
  },
  {
   "cell_type": "markdown",
   "metadata": {},
   "source": [
    "I'll replace \"Don't know\", \"No answer\", and \"Not applicable\" with NaN."
   ]
  },
  {
   "cell_type": "code",
   "execution_count": 8,
   "metadata": {},
   "outputs": [],
   "source": [
    "gss['grass'].replace([0,8,9], np.nan, inplace=True)"
   ]
  },
  {
   "cell_type": "markdown",
   "metadata": {},
   "source": [
    "And replace `2`, which represents \"No\", with `1`.  That way we can use `mean` to compute the fraction in favor."
   ]
  },
  {
   "cell_type": "code",
   "execution_count": 9,
   "metadata": {},
   "outputs": [],
   "source": [
    "gss['grass'].replace(2, 0, inplace=True)"
   ]
  },
  {
   "cell_type": "markdown",
   "metadata": {},
   "source": [
    "Here are the value counts after replacement."
   ]
  },
  {
   "cell_type": "code",
   "execution_count": 10,
   "metadata": {},
   "outputs": [
    {
     "data": {
      "text/plain": [
       "0.0    25195\n",
       "1.0    11027\n",
       "Name: grass, dtype: int64"
      ]
     },
     "execution_count": 10,
     "metadata": {},
     "output_type": "execute_result"
    }
   ],
   "source": [
    "counts(gss['grass'])"
   ]
  },
  {
   "cell_type": "markdown",
   "metadata": {},
   "source": [
    "And here's the mean."
   ]
  },
  {
   "cell_type": "code",
   "execution_count": 11,
   "metadata": {},
   "outputs": [
    {
     "data": {
      "text/plain": [
       "0.3044282480260615"
      ]
     },
     "execution_count": 11,
     "metadata": {},
     "output_type": "execute_result"
    }
   ],
   "source": [
    "gss['grass'].mean()"
   ]
  },
  {
   "cell_type": "markdown",
   "metadata": {},
   "source": [
    "So 30% of respondents thought marijuana should be legal, at the time they were interviewed.\n",
    "\n",
    "Now we can see how that fraction depends on age, cohort (year of birth), and period (year of interview).\n",
    "\n",
    "### Group by year\n",
    "\n",
    "First we'll group respondents by year."
   ]
  },
  {
   "cell_type": "code",
   "execution_count": 12,
   "metadata": {},
   "outputs": [
    {
     "data": {
      "text/plain": [
       "<pandas.core.groupby.DataFrameGroupBy object at 0x7fa6c09f8c18>"
      ]
     },
     "execution_count": 12,
     "metadata": {},
     "output_type": "execute_result"
    }
   ],
   "source": [
    "grouped = gss.groupby('year')\n",
    "grouped"
   ]
  },
  {
   "cell_type": "markdown",
   "metadata": {},
   "source": [
    "The result in a `DataFrameGroupBy` object we can iterate through:"
   ]
  },
  {
   "cell_type": "code",
   "execution_count": 13,
   "metadata": {},
   "outputs": [
    {
     "name": "stdout",
     "output_type": "stream",
     "text": [
      "1972 1613\n",
      "1973 1504\n",
      "1974 1484\n",
      "1975 1490\n",
      "1976 1499\n",
      "1977 1530\n",
      "1978 1532\n",
      "1980 1468\n",
      "1982 1860\n",
      "1983 1599\n",
      "1984 1473\n",
      "1985 1534\n",
      "1986 1470\n",
      "1987 1819\n",
      "1988 1481\n",
      "1989 1537\n",
      "1990 1372\n",
      "1991 1517\n",
      "1993 1606\n",
      "1994 2992\n",
      "1996 2904\n",
      "1998 2832\n",
      "2000 2817\n",
      "2002 2765\n",
      "2004 2812\n",
      "2006 4510\n",
      "2008 2023\n",
      "2010 2044\n",
      "2012 1974\n",
      "2014 2538\n",
      "2016 2867\n"
     ]
    }
   ],
   "source": [
    "for name, group in grouped:\n",
    "    print(name, len(group))"
   ]
  },
  {
   "cell_type": "markdown",
   "metadata": {},
   "source": [
    "And we can compute summary statistics for each group."
   ]
  },
  {
   "cell_type": "code",
   "execution_count": 14,
   "metadata": {},
   "outputs": [
    {
     "name": "stdout",
     "output_type": "stream",
     "text": [
      "1972 nan\n",
      "1973 0.20136518771331058\n",
      "1974 nan\n",
      "1975 0.22569198012775019\n",
      "1976 0.29395604395604397\n",
      "1977 nan\n",
      "1978 0.3056501021102791\n",
      "1980 0.2585844428871759\n",
      "1982 nan\n",
      "1983 0.23943661971830985\n",
      "1984 0.2147887323943662\n",
      "1985 nan\n",
      "1986 0.17466945024356298\n",
      "1987 0.15506508205998867\n",
      "1988 0.1705170517051705\n",
      "1989 0.17492416582406473\n",
      "1990 0.15940366972477063\n",
      "1991 0.17775467775467776\n",
      "1993 0.24342745861733203\n",
      "1994 0.24722075172048702\n",
      "1996 0.28713910761154854\n",
      "1998 0.2966589861751152\n",
      "2000 0.3395810363836825\n",
      "2002 0.3403755868544601\n",
      "2004 0.35785536159601\n",
      "2006 0.3435155412647374\n",
      "2008 0.4001597444089457\n",
      "2010 0.4773988897700238\n",
      "2012 0.4835341365461847\n",
      "2014 0.5790147152911068\n",
      "2016 0.5911039657020365\n"
     ]
    }
   ],
   "source": [
    "for name, group in grouped:\n",
    "    print(name, group['grass'].mean())"
   ]
  },
  {
   "cell_type": "markdown",
   "metadata": {},
   "source": [
    "Using a for loop can be useful for debugging, but it is more concise, more idiomatic, and faster to apply operations directly to the `DataFrameGroupBy` object.\n",
    "\n",
    "For example, if you select a column from a `DataFrameGroupBy`, the result is a `SeriesGroupBy` that represents one `Series` for each group."
   ]
  },
  {
   "cell_type": "code",
   "execution_count": 15,
   "metadata": {},
   "outputs": [
    {
     "data": {
      "text/plain": [
       "<pandas.core.groupby.SeriesGroupBy object at 0x7fa6bd980358>"
      ]
     },
     "execution_count": 15,
     "metadata": {},
     "output_type": "execute_result"
    }
   ],
   "source": [
    "grouped['grass']"
   ]
  },
  {
   "cell_type": "markdown",
   "metadata": {},
   "source": [
    "You can loop through the `SeriesGroupBy`, but you normally don't."
   ]
  },
  {
   "cell_type": "code",
   "execution_count": 16,
   "metadata": {},
   "outputs": [
    {
     "name": "stdout",
     "output_type": "stream",
     "text": [
      "1972 nan\n",
      "1973 0.20136518771331058\n",
      "1974 nan\n",
      "1975 0.22569198012775019\n",
      "1976 0.29395604395604397\n",
      "1977 nan\n",
      "1978 0.3056501021102791\n",
      "1980 0.2585844428871759\n",
      "1982 nan\n",
      "1983 0.23943661971830985\n",
      "1984 0.2147887323943662\n",
      "1985 nan\n",
      "1986 0.17466945024356298\n",
      "1987 0.15506508205998867\n",
      "1988 0.1705170517051705\n",
      "1989 0.17492416582406473\n",
      "1990 0.15940366972477063\n",
      "1991 0.17775467775467776\n",
      "1993 0.24342745861733203\n",
      "1994 0.24722075172048702\n",
      "1996 0.28713910761154854\n",
      "1998 0.2966589861751152\n",
      "2000 0.3395810363836825\n",
      "2002 0.3403755868544601\n",
      "2004 0.35785536159601\n",
      "2006 0.3435155412647374\n",
      "2008 0.4001597444089457\n",
      "2010 0.4773988897700238\n",
      "2012 0.4835341365461847\n",
      "2014 0.5790147152911068\n",
      "2016 0.5911039657020365\n"
     ]
    }
   ],
   "source": [
    "for name, series in grouped['grass']:\n",
    "    print(name, series.mean())"
   ]
  },
  {
   "cell_type": "markdown",
   "metadata": {},
   "source": [
    "Instead, you can apply a function to the `SeriesGroupBy`; the result is a new `Series` that maps from group names to the results from the function; in this case, it's the fraction of support for each interview year."
   ]
  },
  {
   "cell_type": "code",
   "execution_count": 17,
   "metadata": {},
   "outputs": [
    {
     "data": {
      "text/plain": [
       "year\n",
       "1972         NaN\n",
       "1973    0.201365\n",
       "1974         NaN\n",
       "1975    0.225692\n",
       "1976    0.293956\n",
       "1977         NaN\n",
       "1978    0.305650\n",
       "1980    0.258584\n",
       "1982         NaN\n",
       "1983    0.239437\n",
       "1984    0.214789\n",
       "1985         NaN\n",
       "1986    0.174669\n",
       "1987    0.155065\n",
       "1988    0.170517\n",
       "1989    0.174924\n",
       "1990    0.159404\n",
       "1991    0.177755\n",
       "1993    0.243427\n",
       "1994    0.247221\n",
       "1996    0.287139\n",
       "1998    0.296659\n",
       "2000    0.339581\n",
       "2002    0.340376\n",
       "2004    0.357855\n",
       "2006    0.343516\n",
       "2008    0.400160\n",
       "2010    0.477399\n",
       "2012    0.483534\n",
       "2014    0.579015\n",
       "2016    0.591104\n",
       "Name: grass, dtype: float64"
      ]
     },
     "execution_count": 17,
     "metadata": {},
     "output_type": "execute_result"
    }
   ],
   "source": [
    "series = grouped['grass'].mean()\n",
    "series"
   ]
  },
  {
   "cell_type": "markdown",
   "metadata": {},
   "source": [
    "Overall support for legalization has been increasing since 1990."
   ]
  },
  {
   "cell_type": "code",
   "execution_count": 18,
   "metadata": {},
   "outputs": [
    {
     "data": {
      "image/png": "iVBORw0KGgoAAAANSUhEUgAAAYcAAAEWCAYAAACNJFuYAAAABHNCSVQICAgIfAhkiAAAAAlwSFlzAAALEgAACxIB0t1+/AAAADl0RVh0U29mdHdhcmUAbWF0cGxvdGxpYiB2ZXJzaW9uIDIuMi4yLCBodHRwOi8vbWF0cGxvdGxpYi5vcmcvhp/UCwAAIABJREFUeJzt3Xd8VfX9+PFXJiRhEyDszZu9h4OloKIVxFqpigpqxVqtfm3tsq1aRx1Vq63+bCsOFHe1iooDBzjZgsw3M5CwIUBCBsm9ub8/zgleM29Cbs5N8n4+Hnlw75nvezj3vs9nnM+JCgQCGGOMMcGivQ7AGGNM5LHkYIwxpgRLDsYYY0qw5GCMMaYESw7GGGNKsORgjDGmBEsOdZSIzBSRL8O07VQRmVjGvPEikh6O/YZCRN4XkRnu6+ki8pFXsZSlvOMXSUTkThGZW8V1a+QzikhARHqEez/1UazXAZiqE5HRwINAP8APbAD+T1WXeRqYh1T13KDXLwIvehiOqUEicidwJdAS+AqYqar7PQ2qFrOSQy0lIk2Ad4F/Ai2A9sBfgONexuUVEYkSETuf67dYYDzQBud7cKeXwdR2VnKovXoBqOrL7vtcoEQViog8BFwDHAF+oarvu9PbAf8CRgMZwAOq+pQ77zkgXVX/5L4fD8xV1Q6lbD8BeBK4ANgDPFte0CISAG4AbgFSgEeB54C5OCWgD4DLVTVfRJoDLwCjcM7Vr4Cfq2q6u62F7rTxwFBggIjMdmOdLSIzgZ+p6mgR6QJsB+JU1Re0ftGy3YGngEFAAPgQuEFVj7jLpgKP41yZdnbjnKGqeRXFWYYRIvIPoC3wFnC9qua5+zofuAfoAqx3t/VdDRzPru66Q4HFgBbb1ynAI0BfYAdws6ouLOczFq0XDfwWuBZoBnzi7jfDnX8lcDfQyI3/Gpz/t49FZCTwGNAH5xx/A/iVquYX30/R+epucykwvKLYTNnsSqv22gT4RWSOiJzrfvGLG4XzBU/GqX56WkSi3HkvA+lAO+AnwF9FZEIV4rgD6O7+nQPMCGGdScAw4BScH43/ANOBjkB/4FJ3uWicZNMZ6ITz4/B4sW1dAcwCGuP8YFVVFHAfzvHo48ZyZ7FlprmxdwUGAjMrEWdx03GOV3ecRF+UiIcCzwDX4VSP/BuYJyINytlWdR3Pl4AVOOfL3QT9X4pIe+A9nKTVArgVeENEWlXwOQFuAqYC43CO72HgCXe7fYH/58bbFmiKUwou4sdJfMnAqcAE4Bfl7UxEegG/AuaEEJspg5UcailVzXTbHH6Hc8WbIiLzgWtVdZ+72I6g0sAcnC9hGxGJwykxnO9era5yr7ivwLmqq4xpOCWSDCDDvRq+vYJ1HlDVTGCdiKwFPlLVbW6c7wNDgDmqegjnShF33r3AZ8W29ZyqrgtappLhO1R1C7DFfXtARB7BSXzB/qGqu939vAMMdtcNJc7iHlfVtKDl/4mTIK4F/q2qS9zl5ojIbTg//IvK2NZJH08R6QSMACaq6nHgc/czFrkcmK+q8933C0RkOXAeFf8IXwfcGFRCuRPYKSJX4FyYvKOqX7rzbsdJJgCo6oqg7aSKyL9xksyjpe1IRFoCHwP3qeq8CuIy5bDkUIup6gbcq1cR6Y1TlfAo318p7g1aNsf94WyEc0WaoapZQZvbQdWK4e2AtGLbqci+oNe5pbxPARCRRODvOFfGRSWjxiISo6p+933wvqtMRFoD/wDG4JRConGucIPtDXqdg/PZQ42zuOLHrJ37ujMwQ0R+GTQ/Pmh+aU76eLrbP6yq2cXi6hgU18UiMjlofhwVJ8Gidf8nIoVB0/w4bQM/OH/c8/RQ0Xu3FPAIzrmZiPObFZwwirsI2KKqj4QQlymHVSvVEaq6Eae+uH8Ii+8GWohI46BpnYBd7utsnC9ikZRytrWH739AirZTXX4NCDBKVZsAY93pUUHLhDqscNGPXlmf6z53WwPdfV1ebD8nG2dxxY/Zbvd1GnCvqjYL+ksMals6GeXFuQdoLiJJxeIqkga8UCyuJFW9P4T9pgHnFlu3oarucvd7oi3LbcNqGbTuk8BGoKcb822Uf1zb8v2xNCfBSg61lFtS+BHwqqqmi0hHnBLD4orWVdU0EfkauE9EbsWp874G5wcRYBXwaxG5B+eq9f/K2dxrwB9EZAmQBPyynGUrqzHOle8REWlByWqekKnqARHZBVzuVk3MwKnvD97XUXdf7YHfhDnOG0TkXZwSyG3Aq+70p3Cusj8GluIks/HA58VKelVRZpyqusOtJvqLW401EpgMFFXNzAWWicg5ONU2cThVXVsqaHgHp+PDvSIyw91PK+A0VX0b+C+wWEROA5bj9LgL/vFvDGQCx9xz/nrgQDn7ehiIqehAmIpZyaH2ysJpcF4iItk4SWEtztVhKC7F6Q2zG/gfcIeqLnDnvQCsBlJxekC9Wsr6Rf6CU/2w3V32hcp8iAo8CiQAB3E+3wcnub1rcX70D+H05Pk6aN5fcHrpHMVpeH0zzHG+hHO8trl/9wCo6nI3zsdxqrW28H3D98mqKM7LcM6pDJzE8XzRDLd95AKcRHYApzTwG0L7DXkMJ8l8JCJZ7r5Hudtdh3NB8QpOKSIL2M/3XbJvdePKwkmc5Z2L4LRXPBxCTKYCUfawH1NXicjVON04z/Q6FhMaEWmE0+26p6pu9zqe+syqlUxd1g+nRGMimNvI/QlOddJDwBqcUqvxkCUHUyeJyFtAT+Bir2MxFboApzoyCqfd4RJVtSoNj1m1kjHGmBJqVcnBvUt0BE7DVVn9x40xxvxQDE4332XuTY4VqlXJAScxfOF1EMYYU0uNAUIayr+2JYc9AC+++CIpKeXdl2WMMabI3r17mT59Ori/oaGobcnBD5CSkkKHDiUGCDXGGFO+kKvjw5ocRGQSzg0wMcDs0m61F5FpOKNfBoDVqnpZOGMyxhhTsbAlB3cwryeAs3CGhl4mIvNUdX3QMj2BPwCnq+phd/CzKvH5fBQWFla8YB0RHR1NbGxtK/gZY2qLcA6fMRJn3JVt7oM5XsHpzxzsWuAJVT0MUNVH+mVlZZGfX+LZH3Vafn4+WVknO9SOMcaULpyXnu354bDE6bjjqQTpBSAiX+FUPd2pqpUaP8fn8xETE0NiYmLFC9ch8fHx5OTk4PP5rARhjKl24Sw5lDasbvE77mJx7mIdjzMQ3GwRaVaZnRQWFtbbH8eYmJh6VZVmjKk54UwO6fxwzPoOlBxnPR14W1UL3EG2FCdZmBBERYX6uAFjjKmccCaHZUBPEekqIvHAJXw/NnyRt4AzAEQkGaeaaVsYYzLGmHojEAiwNf0I/1u4peKFiwlbfYyq+kTkRuBDnPaEZ1R1nYjcBSx3n+/6IXC2iKzH6X/7G/c5t8YYY6pof0YOi75N57MV6aTty6IgJ6PS26hVA++JSBdg+yeffHLiJriiXkrx8fHeBRai6m48rk2f3RgTXsdyC/hq9W4Wrkxj7VbnGjsuNpqRfVPo1zGGW6+/FKCrqqaGsr362ZIbJk888QTvvPMObdu2pXnz5vTr14+FCxcyZMgQVq5cyZlnnkmXLl148sknKSgooFmzZjz00EMkJyezdOlS7r33XsBpS5g7dy45OTnccsstHDt2DL/fz5133snw4cM9/pTGmEhR4POzfMN+Fq5MY+m6ffj8TgeVAd2TGT+sA6cNbEejhDjS0yt6kmtJdS45PPPOOr5avatat3n6oPZcPblfucusWbOGjz76iLfeegufz8ePf/xj+vVz1snMzGTu3LkAHD16lNdee42oqChef/11Zs+eze9//3ueeeYZbr/9doYNG0Z2djYNGjTgtddeY/To0Vx//fX4/X5yc3Or9XMZY2qfQCDAhtQMFq5I54tVuziWWwBAp5TGnDGsI2OHtKd185Pv2l/nkoNXVqxYwYQJE2jYsCEAZ5xxxol555133onXe/fu5ZZbbuHAgQPk5+efqB4bOnQo999/P5MnT+bss88mKSmJAQMGcNttt+Hz+Zg4cSJ9+vSp2Q9ljIkYuw8c49PlaSxcmc6+jBwAWjRpwNSR3TljWEe6tmtSrT0Y61xyuHpyvwqv8mtaQkLCidf33HMPM2fOZMKECSxZsoTHH38cgFmzZjFu3DgWLVrEtGnTePbZZxkxYgRz585l0aJF/Pa3v+Waa65h6tSpXn0MY4xHduzN5Ja/L6LAV0hCgxjOHN6RM4Z1YECPVsREh6dLezi7stYrQ4cO5bPPPuP48eNkZ2ezcOHCUpfLysqiTZs2ALz11lsnpu/cuRMRYdasWfTv35/t27eza9cuWrZsybRp07joootYt25dTXwUY0yE+WRZGgW+Qq48rw/P3zGJWy4dyuBercOWGKAOlhy8MnDgQM4880ymTJlC+/bt6d+/P40bNy6x3I033sjNN99MmzZtGDRo0ImGojlz5rBkyRKio6Pp0aMHY8eO5b333uPpp58mNjaWxMREHnjggZr+WMYYj/kLA3z+bTpJCXFMHdeduNiYGtmvdWWtRtnZ2SQlJZGbm8v06dO5++67TzRKh0MkfXZjTHis2XKQ2578irNHdeaX0wZXaRvp6elMmDABrCurN26//Xa2bNnC8ePHufDCC8OaGIwx9cOib53ahXFD29fofi05VKOHH364RvcXCARsfCVj6rACn5+vVu+mRZOG9OuWXKP7rvUN0tHR0fh8Pq/D8ITf7yc6utb/FxpjyrBy436O5RYwdkj7sDY+l6bWlxxiY2PJzc0lJyeHmJiYenElHQgE8Pv9+P3+ejtcuTH1waJvnRt6xw3pUOP7rhO/LI0bN65XjwmNiooiPj7eEoMxdVhOXgFL1u2lfaskundoWuP7rzO/LvZDaYypS5as20t+gZ9xQzp4UiNiFdbGGBOBFq10eimNHVrzVUpgycEYYyLO0WPH+XbTAXp0bEb7Vo08icGSgzHGRJgvV++msDDgSUN0EUsOxhgTYRatTCcqCsYMbudZDJYcjDEmguzLyGFDagYDuifTsmlCxSuEiSUHY4yJIJ+fGC7DuyolsORgjDER5fNvdxEbE81pA9p6GoclB2OMiRCpezJJ3ZPJ8D6taZTo7WjLlhyMMSZCREqVElhyMMaYiBAIBFi0Mp2EBjGM6JvidTiWHIwxJhJsTD3M/sO5nDqgHQ3iauZpb+Wx5GCMMRHgxEN9PLzxLZglB2OM8ZjPX8iXq3fRtFE8g3rW7EN9ymLJwRhjPLZ68wGOHstnzKD2xMRExs9yZERhjDH1WNEIrJHQS6mIJQdjjPFQXr6PxWv30LpFItK5udfhnGDJwRhjPLRs/T5yj/sZN6R9RD3m2JKDMcZ4KBKrlMCSgzHGeOZYTj4rNu6jS9smdE5p4nU4P2DJwRhjPPLVd3vw+QMRV2oASw7GGOOZorGUxg5u73EkJVlyMMYYDxw6msuarQfp27UFrVskeh1OCZYcjDHGA1+s2kUgEHkN0UViw7lxEZkEPAbEALNV9f5i82cCfwN2uZMeV9XZ4YzJGGMiwaKV6cRER3H6QO+eE12esCUHEYkBngDOAtKBZSIyT1XXF1v0VVW9MVxxGGNMpEnfn8WW9KMM79OGpo0aeB1OqcJZrTQS2KKq21Q1H3gFuCCM+zPGmFrh82+dypJxQyKvIbpIOKuV2gNpQe/TgVGlLHeRiIwFNgG3qGpaKcsYY0ydUPRQn/i4GEb19/Y50eUJZ8mhtPvAA8XevwN0UdWBwMfAnDDGY4wxntuSfoTdB7M5pV8KCQ3C2ux7UsIZWTrQMeh9B2B38AKqeijo7VPAA2GMxxhjPLdopVOlNDaCq5QgvCWHZUBPEekqIvHAJcC84AVEJLhMNQXYEMZ4jDHGU/7CAF+sSqdRQhxDe7fxOpxyha3koKo+EbkR+BCnK+szqrpORO4ClqvqPOAmEZkC+IAMYGa44jHGGK+t3XqQjMzjnHNKZ+JiI/s2s7BWeKnqfGB+sWm3B73+A/CHcMZgjDGR4sQIrBHynOjyRHbqMsaYOqLA5+fr73bTsmlD+nZr6XU4FYrcpnJjjKnF/P5Cdh04xvbdmWzffRTdeZjsPB9njepMTHTkPNSnLJYcjDHmJGXl5JPqJoHtuzPZvucoO/dmUeAr/MFybVokMunULt4EWUmWHIwxJkSBQOAHpYHtuzNJ3X2Ug0fzfrBcXGw0nVIa07VtU7q0a0LXdk3o0rYpTZLiPYq88iw5GGNMiOa8t543Ptvyg2ktmjRgaO/WdG3bhK7tnGTQoVUjYmJqd5OuJQdjjAnB0WPHmffFNpKbNuSCcd1PlAoideC8k2XJwRhjQvDB4lQKfIVceEYPpozp7nU4YVe7yz3GGFMDfP5C5n+VSkKDWCaO6OR1ODXCkoMxxlTgq9W7ycjM46yRnUhsGOd1ODXCkoMxxlRg3hdbiYqC80d38zqUGmPJwRhjyrFxRwabdh5hZN8U2iYneR1OjbHkYIwx5Xjn820ATB5Tf0oNYMnBGGPKdPBILl99t5vOKY0Z2CPZ63BqlCUHY4wpw/yvt+MvDDBlbHeioiJ/PKTqZMnBGGNKcbzAzwff7KBxYjzjhkb+ENvVzZKDMcaUYuGKdLJy8pl0amcaxMV4HU6Ns+RgjDHFBAIB3vliKzHRUfzo9K5eh+MJSw7GGFPMd5sPsmNvFqcPakfLpgleh+MJSw7GGFPMvC+c7qtT6ln31WCWHIwxJsieg9ks27AX6dQc6dzC63A8Y8nBGGOCvPvlNgKB+nfTW3GWHIwxxpWTV8CCpTtp0aQhpw9q53U4nrLkYIwxro+X7iT3uI8fnd6V2Fr+JLeTVb8/vTHGuPyFAd79cjvxsdGcc0pnr8PxnCUHY4wBVmzYx55D2Ywb2qHOPvqzMspNDiISLSIDayoYY4zxytufbwVgyti6/wjQUJSbHFS1EHi6hmIxxhhPpO7J5LstBxnYI5kubZt4HU5ECKVaaYOIdAl3IMYY45V37Ka3EmJDWKYV8J2IfAkcK5qoqtPCFpUxxtSQo8eOs3BFGiktExneN8XrcCJGKMnhFffPGGPqnA8X7yDfV8jk0d2Iia5fz2woT4XJQVXn1EQgxhhT03z+QuZ/vZ2EBrFMHNnJ63AiSoXJQUSSgceBCUAA+Bi4WVUPhDk2Y4wJq6+/282ho3lMHtONxIZxXocTUUJpkP43sAkYDAwFNrvTjDGmVpv3+TaiouD80fXzmQ3lCaXNobuqXhT0/g4RWRWugIwxpibojgx052FG9k2hXXIjr8OJOKGUHKJFpHXRG/e13VltjKnV7JkN5Qul5PAQ8K2IvIfT5nAe8IewRmWMMWF06GguX63eTeeUxgzsmex1OBGpwhKAqj4PnAN8B6wFzlHVueEOzBhjwuW9r7bjLwwweUw3oqKs+2ppQumtdAXwX1VdW9mNi8gk4DEgBpitqveXsdxPgNeBEaq6vLL7McaYUB0v8PPBNztonBjP+GEdvQ4nYoXSdnABsENEnhKR00PdsIjEAE8A5wJ9gUtFpG8pyzUGbgKWhLptY4ypqkUr08nKyWfSqZ1pEBfjdTgRK5RqpZ8AvXGqlR4TERWRUNocRgJbVHWbqubj3GV9QSnL3Q08COSFHrYxxlSe31/IW4u2EB0dxXmnWffV8oTU60hVM1T1n8DZwGfAPSGs1h5IC3qf7k47QUSGAB1V9d3QwjXGmKp77+vtpO07xsQRnUhuluB1OBEtlDaHGJyqoauAMcDbwNgQtl1aK08gaLvRwN+BmaEEaowxJ+NI1nFe+mAjSQlxXHleH6/DiXihdGVNx+mlNAe4XFVzQ9x2OhDc2tMB2B30vjHQH1goIgApwDwRmWKN0saY6vb8/PVk5/n4+YUD7ElvIQglOYxU1bSKFythGdBTRLoCu4BLgMuKZqrqUeBEB2MRWQjcaonBGFPddEcGC5bupEvbJkw6tYvX4dQKoYzKmibOpf0goGHQ9OcrWM8nIjcCH+J0ZX1GVdeJyF3AclWdd3KhG2NMxQoLA/zrf2sA+PmPBxITYwM8hCKUNoebgOuAtjilgTHAIqDc5ACgqvOB+cWm3V7GsuMrDtcYYypnwdKdbEk7wvihHejXraXX4dQaoaTQWTjdUneq6jnu68NhjcoYY6pBVk4+c95bT0KDGGaeX+I2K1OOUJJDnqpm4wzAF+XeKd09zHEZY8xJe/GDjWTl5HPJWULLptZ1tTJCaZDOEZE4YDXwgIikAYnhDcsYY07O9t1Hef/r7bRv1YjJY+x6trJCKTn8AogHfg20AMYBV4QzKGOMORmBQIB/vfkdhQGYdeEA4mKtEbqyyiw5iMjLqnopMEFVHwOygZ/VWGTGGFNFi1ams357BqcOaMvQ7x9HYyqhvHTa3/13Rk0EYowx1SEnr4Bn311HfGw010zpX/EKplTltTksF5GjQIKI7A+aHgUEVNXSsTEm4ry6YBMZmce57JzetGlhzaNVVWbJQVWvAnoBm4ERQX/D3X+NMSaipO3L4u3Pt9KmRSI/PqOH1+HUauX2VlLVfSIySlWP1VRAxhhTFYFAgP+8tQZ/YYCfXdDfntVwkkJ5noMlBmNMxFu8dg+rNh1gaO/WjOqX4nU4tZ717zLG1Hp5+T5mv72W2JgoZk0dYM+FrgaWHIwxtd4bn25h/+FcLhjbnfatGnkdTp0Qyh3SiEgizvMYTiyvquvDFZQxpu46XuDnvS+38/mqdPp0acH5o7ud1A/63kPZvPHZZlo0achPz5JqjLR+C2VU1huA+4EMoNCdHAC6hTEuY0wdU+ArZMHSHby6QMnIPA7A1vSjvPvldob2bs3k0d0YKq2Jjq5cldDst9dS4Cvkmin9SGgQ0vWuCUEoR/LXQH9V3RHuYIwxdY+/MMDCFWm89JGyPyOHBvExXDyhJ1PGdGfN1oO888U2Vm7cz8qN+2mbnMT5p3dlwohOJCXEVbjt5Rv2sWTdXvp3b8mYwe0rXN6ELpTksNcSgzGmsgoLA3yzZg8vfriBtH3HiI2JZvKYblx8Zk+aN3GeGzZmcHvGDG7P1vQjvPvldhZ9m85Tb6/lhfc3cObwjpw/uhsd2zQudfsFPj9PvbWG6OgorrtwoDVCV7NQksMCEXkQeAXIK5pobQ7GmNIEAgFWbNzPC+9vYNuuo0RHR3H2qM789KxetG5e+h3L3Ts04+ZLhjDz/L58tGQH87/azvyvU5n/dSqDe7Vi8phuDOvdhpigKqe3Fm1l98FsJo/pRpe2TWrq49UboSSHK91/Lw6aZm0OxpgS1m49yPPzN7AhNYOoKBg7pD3Tz+lNuxAbnJs2asDFE3rx4/E9WLx2L+98uY1Vmw6watMBUlom8qPTuzJxZGfyjvt47eNNNG0Uz2Xn9A7zp6qfQnmGdNeaCMQYU3tt2nmYue9v4NtNBwAY1S+Fy8/tU+Ur+piYaE4f1I7TB7Vj+26n0XrhijSenreOuR9spHXzBPLy/cyaOoBGIbRNmMorb8juBqp63O3GWoKq5oQvLGNMbbBjbyYvfrCRb9bsAWBwz1Zcfm5vpHOLattH13ZN+eW0wcz4UV8WLNnBe19vJ23fMXp1asaEEZ2qbT/mh8orOXwDDAWO4VQjBbf2BAAbuMSYWm715gMsWplOga+QAn8hPl8hPn/RXwBf0XR/IQVF84KWyT3uB6B35+ZccV4fBvZoFbZYmyTFc9GZPZk6vgfrth2kc0qTSnd7NaErMzmo6lD3X7uL2pg6aEvaEf4yezEFvsJS50dFQVxMNLGx0cTGuH+x0SQ2jD3xunFiPFPGdGN4nzY11lsoJjoqrEnIOOyOEWPqoczsfO6bsxSfv5DfXTmc3p1bnPjBj42JIi4mmpgYuy6szyw5GFPP+AsDPPziCvYfzuWyc3ozepDdPGZKsksDY+qZlz/ayErdz/A+bfjpxF5eh2MilCUHY+qRpev28uqCTaS0TOTXlw21Bl1TppCrlURkIPAPIAn4k6p+GLaojDHVbvfBYzzy0griY6O5beZIGiXGex2SiWBllhxEpHhX1T8CM4GfAA+FMSZjTDXLy/dx33PLyM7zccPFg+jarqnXIZkIV1610qciclrQ+yjAT8l7HowxESwQCPDE66tJ3ZPJead14czhduOYqVh51UoXAn8TkRnA74C/Ai8Cie57Y0wt8N5X21m4Mh3p3JyfXTDA63BMLVHeTXAZwDUiMhZ4G/iPqo6tsciMMSdtw/YMZr+9lmaNGvD7K0cQF2t9UExoymtziBaR84B44Gygm4i8IyLdayw6Y0yVHc7M4/7nlxEAfnvFcJKbJXgdkqlFyruMeA24CLgG+Luq3g38CnhMRP5cE8EZY6rG5y/kgReWk5GZx4zz+jKgR7LXIZlaprw2hx6qOhhARFYBqOpm4HwRmV4TwRljqmbOe+tZt+0Qpw1sy4XjrbBvKq+85LBdRGbjNEAvDZ6hqi+GNSpjTJV9sWoXby3aSofWjbj5p0Ps8ZmmSspLDhcD5wAFwIKaCaduOnA4lxZNGthAZibsdu7N5B+vfktCgxhumzmSxIb2IBxTNeX1VvIB753MxkVkEvAYzrMfZqvq/cXm/xy4Aef+iWPArLr2bOqcvAJm3beAYb3b8MerRtpVnAmbnLwC/vrcUvLy/fzuyuF0bNPY65BMLRa2S1n3DusngHOBvsClItK32GIvqeoAt23jQeCRcMXjlYQGsfTt2pIl6/by/jepXodj6qhAIMCjr3zLrgPZXDi+h420ak5aOOs5RgJbVHWbquYDrwAXBC+gqplBb5Nw7r6uU6KiovjVZUNplBDH02+vZefezIpXMqaS3vxsC9+s2cOA7snMOK+P1+GYOiCcyaE9kBb0Pt2d9gMicoOIbMUpOdwUxng807JpAr+cNph8XyEPvbiCAp/f65BMHbJ60wGen7+eFk0a8psrhlnblqkW4XzYT2mV6yVKBqr6BPCEiFwG/AmYEcaYPHPawHacPaozHy3ZwfPzN3DNlP5eh2RqKX9hgM1ph1mxYT8rNu5jS/oRYqKj+MOMETRv3NDr8EwdEc7kkA50DHrfAdhdzvKvAE+GMZ4qS92Tyd/mLuc3lw+nS9smVd7OtRf0Z922g7y1aCtDpTVDpHU1RmkQaSkGAAAXpElEQVTqssNZeazcuJ+VG/fz7ab9ZOUUAM7zlPt1a8nUsd3p3aWFx1GauiScyWEZ0FNEugK7gEuAy4IXEJGe7o11AD8CNhOBFq5IY+feLDIy804qOTRsEMuvpw/jN//4gkdfWck/fn0GTRs1qMZITV3h9xeyccdhVmzcx0rdz9b0oyfmJTdtyGmntGNY79YM6tnKuquasAhbclBVn4jcCHyI05X1GVVdJyJ3ActVdR5wo4hMxLmX4jARWqW0dtshoqOj6N25+Ulvq2fH5lx+bh/mvLeef762yrq3mhMOHc1lhVs6WLVpP9l5PgBiY6IY2COZYb3bMKxPazq1aWznjAm7cJYcUNX5wPxi024Pen1zOPdfHfKO+9iSdoQeHZpW2xXaheN7sHLjfpas28sHi3dw7qldqmW7pnY6dDSX++YsQ3ccPjGtdfMExg7pwLDerRnYsxUJDcL6VTWmBDvjKrBxRwb+wgD9u1XfwGUx0U731l8+9Bmz315L/24t7YaleirvuI+7n1nC1vSjDOyRzIi+KQzr3ZoOrRtZ6cB4yvq8VWDt1kMA9O/eslq3m9wsgRunDSa/wM9Dc617a31UWBjgkZdXsjX9KGeN7MQ9Pz+NqeO609GqjUwEsORQgbXbDhEdBX27Vm9yADh9YDvOGtmJbbuP8sL7G6t9+yayzf1gA9+s2UP/7i25/qJBlhBMRLHkUI7jBX50x2G6tm9KUkJ4eoRcO3UAbZOT+N/CLazatD8s+zCR59Plabz+yWbatkziDzNG2hPaTMSxM7Icm3YcxucvrNb2huISGsRy6/RhxERH8feXvyUzOz9s+zKRYf32Q/zztVUkNYzlz9eMoklSvNchGVOCJYdyrN16EKj+9obienVqzvRJvcnIzOPx11cRCNS5IaaMa++hbO59dimFgQC/nzHCOiKYiGXJoRxrtx0iKgr6dQtvcgD48Rk96d+9Jd+s2cNHS3aEfX+m5uXkFXD3M0vIzM7n5xcOYHAvu0PeRC5LDmUo8PnZmJpB55QmNE4Mf7E/JjqKX106jKSEOJ56ey3p+7PCvk9Tc/z+Qh58YTk792YxeUw3zj2tq9chGVMuSw5l2LTzCPm+QvrXQKmhSKvmCdx48SCO5/vd0VsLa2zfJryeeWcdKzbuZ2jv1lwzuZ/X4RhTIUsOZVi7rai9IXyN0aUZPag9E0d0Ymv6UV78YEON7tuEx/tfb2feF9volNKY314+3IbUNrWCnaVlKLr5rSbaG4q7dmp/2rZM4s2FW1i9+UCN799Un1Wb9vOv/62hSVI8f756VNi6RBtT3Sw5lMLnL2RjagYd2zSiWeOaHzU1sWEct14+jKioKP7+8krr3lpLpe3L4v45y4iOiuKPV40kpWWS1yEZEzJLDqXYkn6EvHx/WO9vqEivTs257Bzh0NE8nnt3nWdxmKrJzM7n7qeXkJ3n45fTBoflDntjwskG3itFuMZTqqyfnNmL3QeyadU80dM4TOUU+Aq5b85S9hzK5uIJPTlzeMeKVzImwlhyKMX3N795V3IAp3vrLZcO9TQGUzmBQIAn31jN2q2HOG1gWy6f1MfrkIypEqtWKsbvL2T99gzaJSfRook9j9dUzluLtrJg6U66d2jKLZcMJTraBtMztZMlh2K27T5K7nGf56UGU/ssWbuHZ99dR4smDfnz1aNoaA/oMbWYnb3FREp7g6kdDmflsTH1MBtTM5j/9XbiYmP489WjaNk0wevQjDkplhyKWbfNTQ4e9lQykclfGGDHnkw27shgQ2oGG1Mz2Hso58T8+Nhobr18GD06NvMwSmOqhyWHIIWFAdZtO0TrFom0am5XfuZ7efk+fvOPL0jdk3liWqOEOIb3aUPvLs3p06UFPTs2t2c9mzrDzuQgO/Zmciy3gJH9UrwOpUYczsyjcVI8sTacQ4Xe/zqV1D2ZDO7VirGD29O7Swvat2pkDc6mzrLkEGSN24V1QD1obyjw+bn2vo8Z0D2Z268ZZY+oLEfucR///XQziQ1j+e0Vw2tklF5jvGaXjEG+b4yu++0NcbEx9OvWkuUb9vHhYnt+RHne/XIbmdn5TB3b3RKDqTcsObgCAae9IblpQ9q0qB93JN80bTBJCXE8PW8tew9lex1ORMrOLeDNz7bQKCGOKWO7ex2OMTXGkoNr574sMrPz6d89ud5UsbRsmsB1Fw4gL9/Po698S2GhPZ60uHlfbONYbgE/PqOHjahq6hVLDq76en/D+KEdOHVAW9ZtO8S8L7Z5HU5EOZaTz9uLttAkKZ7zR3fzOhxjapQlB1ekjKdU06KiovjFRYNo2iie5+evJ22fPZ60yP8WbSU7z8dFZ/S0Lqqm3rHk4NqYmkHzxg1ol1z/xtxv1rgBN/xkEAW+Qh55eSV+vz2e9Oix47zzxVaaN27Aead38TocY2qcJQfXuKEdmD6pd71pbyju1AHtOGNYB7akHeG/n272OhzPvfnZFnKP+/nJhJ40jLdSg6l/LDm4Zp7fj3NO6eJ1GJ6adeFAWjZtyMsfKdt2HfU6HM8czszj3a+2k9y0IZPq+Tlh6i9LDuaERglx3PTTIfgLAzzy0goKfH6vQ/LEfz/dTH6Bn2kTexEfF+N1OMZ4wpKD+YGh0ppzT+3Cjr1ZvPSheh1OjTt0NJf3v0mldYtEJo7s7HU4xnjGkoMp4arJ/Uhpmcibn21mf0ZOxSvUIa99vIkCXyGXTOxFXKx9PUz9ZWe/KSGhQSy/v3IEE0Z0onFS/RkuYn9GDh8t2UHblkmcYc99NvWcdcMwpereoRk3/XSI12HUqFc/3oTPH+CSs8VGqjX1nn0DjAH2HMzm42U76dC6EeOGdvA6HGM8F9aSg4hMAh4DYoDZqnp/sfm/An4G+IADwNWqakOEmhr3ygKlsDDAZWf3Jsae0WBM+EoOIhIDPAGcC/QFLhWRvsUW+xYYrqoDgf8CD4YrHmPKkrYvi4Ur0ujStgmnD2rndTjGRIRwlhxGAltUdRuAiLwCXACsL1pAVT8LWn4xcHkY4zGmVK8sUAoDcNk5Yk92M8YVzjaH9kBa0Pt0d1pZrgHeD2M8xpSwY08mX6zaRbf2TTmlf1uvwzEmYoSz5FDaJVipDwwQkcuB4cC4MMZjTAkvfbSRQIB6Pa6WMaUJZ3JIB4I7i3cAdhdfSEQmAn8Exqnq8TDGY8wPbNt1lK+/24N0as6IPm28DseYiBLO5LAM6CkiXYFdwCXAZcELiMgQ4N/AJFXdH8ZYjCnhxQ82AnCZlRqMKSFsbQ6q6gNuBD4ENgCvqeo6EblLRKa4i/0NaAS8LiKrRGReuOIxJtimnYdZun4vfbu2YEivVl6HY0zECet9Dqo6H5hfbNrtQa8nhnP/xpSlqNRw+aQ+VmowphR2h7Spd9ZvP8RK3c/AHskM6FG/HgtrTKgsOZh6p6jUMH1Sb48jMSZyWXIw9cqaLQf5bstBhkpr+nZt6XU4xkQsSw6m3ggEAsz9YANgpQZjKmLJwdQb7365nfXbMxjZN4VenZp7HY4xEc2e52Cq3dFjx3nwheVcOL4Hw6vh5jKfv5DNO4+wessBVm8+QMbRPK6a3K9Sw10sWpnOf95aQ7PGDbh2av+TjsmYus6Sg6l2Pn8huvMw9z+/jPt/MZoeHZtVav1AIMCOvVms3uwkg7VbD5F73AdAVBTEREdx35xl3DRtMBNGdKpweys37ufvL68ksWEsd806lZSWSVX6XMbUJ5YcTLVr2TSB30wfxr3PLeXuZxbz0E3jaNU8IaR10/dncc8zS9h1IPvEtHbJSYwf1oFBPVsxoHsyuw8e4y9PLebRV74lK6eAqeO6l7k93ZHBfXOWEh0dxZ+vHkXXdk1P+vMZUx9YcjBhMap/W66Z0p/Zb6/lrqcX88CNo0lsGFfuOlvSjnDHU9+QmZ3P6EHtGNa7DYN6tiqRWJokteD+G0Zz+3++5ul5a8nKyefyUobASNuXxV9mLyG/wM8fZo6kf3e7p8GYUFmDtAmbKWO6cd5pXUjdk8mDLyzH7y8sc9nvthzgtie/JCsnnxt+MojfXTmCiSM7lVni6Ny2CQ/cOIa2yUm89vEmnnzjO/yF3w/6e+BwLrf/5xuycvK58eLBNhy3MZVkycGETVRUFLOmDmBY79as2Lifp95eSyBQctT2r7/bzR3/WUyBL8DvrhjBpFO7hLT9lJZJPHDjaLq2a8L736Ty8IsrKPAVkpmdzx1Pfc3BI7nM/FFfzhrVuXo/mDH1gFUrmbCKiYnmt1cM53ePf8l7X22nXXISU8Z+30bw0ZIdPPH6KuLjYvjjVSMZ3Kt1pbbfvHFD/vqL0dz99GK+WLWL7NwCsnMLSNt3jKnjuvPjM3pU90cypl6wkoMJu8SGcdx+zSm0aNKA2fPWsmTtHgDe+HQz/3xtFUkJ8dx7/emVTgxFGiXE8ZdZpzK8TxtW6n5052HOHN6Rq87vZ4PqGVNFVnIwNaJV8wT+fPUp/P7/fcnfXlzB6QPb8enyNJKbNuSu606jY5vGJ7X9hvGx/PGqkTz77jryCwq57sIB9jxoY06CJQdTY3p0bMat04fx1+eW8unyNDq0bsRds04LuZtrRWJjorn2ggHVsi1j6jtLDqZGndK/LTdNG8K3m/Yza+oAmjZq4HVIxphSWHIwNW7iyE5MHFnxnc3GGO9Yg7QxxpgSLDkYY4wpwZKDMcaYEiw5GGOMKcGSgzHGmBIsORhjjCnBkoMxxpgSatt9DjEAe/fu9ToOY4ypNYJ+M2NCXae2JYe2ANOnT/c6DmOMqY3aAltDWbC2JYdlwBhgD+D3OBZjjKktYnASw7JQV4gq7eErxhhj6jdrkDbGGFOCJQdjjDElWHIwxhhTgiUHY4wxJVhyMMYYU0Jt68paKSLyDHA+sF9V+7vTBgH/AhoBqcB0Vc0UkenAb4JWHwgMVdVVIrIQpxtYrjvvbFXdX0NxxQGzgaE4/1/Pq+p97jqTgMdwuqnNVtX7qxpTNceVCmThdDf2qerwGowrHvg3MBwoBG5W1YXuOsOA54AEYL47r8rd9aoxroVU7/nVEXgeSHH39R9VfUxEWgCvAl3c2Kap6mERicI5j84DcoCZqrrS3dYM4E/upu9R1TkREpcfWONueqeqTqnBuHoDz+Kc+39U1YeCtlVt38lqjiuVSn4n63rJ4TlgUrFps4Hfq+oA4H+4CUFVX1TVwao6GLgCSFXVVUHrTS+afzJf3MrGBVwMNHCnDwOuE5EuIhIDPAGcC/QFLhWRvl7HFbTeGe6xOqnEUIW4rgVwp58FPCwiRef5k8AsoKf7V3ybXsUF1Xt++YBfq2of4BTgBvfc+D3wiar2BD5x34NzDhUdk1k4xwn3R+gOYBQwErhDRJp7HZcrN+h4VTkxVDGuDOAm4KHgjYThO1ktcQWp1HeyTicHVf0c54AFE+Bz9/UC4KJSVr0UeDlC4goASSISi3PFmw9k4nxZt6jqNlXNB14BLoiAuKpdJePqi/OFwf2RPQIMF5G2QBNV/cYtLTwPTPU6rpPZfzlx7Sm6wlbVLGAD0B7n/Ci68p/D95//ApySX0BVFwPN3ON1DrBAVTNU9bD7eaqcUKsxrmpV2bhUdb+qLgMKim2qWr+T1RhXldTp5FCGtUDRlcbFQMdSlvkpJZPDsyKySkT+7BZ3ayqu/wLZOHeF7wQeUtUMnJMkLWj9dHea13GBkzg+EpEVIjIrDDGVF9dq4AIRiRWRrjilmo44xyY9aP2aPl5lxVUkLOeXW5obAiwB2qjqHnB+eIDW7mJlnUthO8dOMi6AhiKyXEQWi8hJJfkqxFUWr49XeSr9nayPyeFqnOLZCqAxzhXvCSIyCshR1bVBk6e71QFj3L8rajCukTj1hO2ArsCvRaQbUNoPSDhud69sXACnq+pQnOL1DSIytgbjegbnS7kceBT4Gqd47vXxKisuCNP5JSKNgDeA/1PV8kp1ZR2bsByzaogLoJNbPXIZ8KiIdK/BuMri9fEqT6W/k/UuOajqRlU9W1WH4ZQOig9CdQnFSg2qusv9Nwt4CeeHsabiugz4QFUL3OqIr3CqI9L54ZVnB2B3BMSFqu52/92PU+9eY8dLVX2qeotbt3oB0AzYjHO8OgRtokaPVzlxheX8cjsMvAG8qKpvupP3FVXLuP8WtW2UdS5V+zlWTXEFn2PbgIU4V9U1FVdZvD5eZarKd7LeJQcRae3+G43TC+NfQfOicaoCXgmaFisiye7rOJzeKcGlinDHtRM4U0SiRCQJp2FqI84AWj1FpKvbE+YSYJ7XcYlIkog0dtdJAs6mBo+XiCS6+0VEzsLpmbHeLX5nicgpbrXNlcDbXscVjvPL/XxPAxtU9ZGgWfOAGe7rGXz/+ecBV7r/l6cAR93j9SFwtog0dxuiz3aneRqXG08Dd5vJwOnA+hqMqyzV+p2srriq+p2s611ZXwbGA8kiko7T86KRiNzgLvImTtevImOBdPdqpEgD4EP3ixsDfAw8VYNxPeG+XotTbH1WVb9zt3Mjzpc1BnhGVdd5HZdbtfQ/EQHn/HpJVT+owbha4/x/FQK7+GEVzfV835X1fffP67iq/fzC+bG8AlgjIkU97m4D7gdeE5FrcJL7xe68+TjdRbfgdBm9CkBVM0Tkbr4fyfOuoHYlz+IC+gD/do9lNHC/qlY5OVQ2LhFJwakebAIUisj/AX3V6bJcnd/JaokLSKYK30kbldUYY0wJ9a5ayRhjTMUsORhjjCnBkoMxxpgSLDkYY4wpwZKDMcaYEiw5mIgiIs+IyAPFpn0sItd7FI+IM6zFtyLy02LzRonI8yFso4WI3Bqm+J4VkdPCsW1Tv1lXVhNRRKQJzjhEl6jqEhG5DvgJzjDW1TEUQayq+ipe8sTyfwRaq+rNJ7HPHsCXqppShXUrFa8x1cWSg4k47h3Ej+GMNvkJzrgwO915VwM/x7mZ5zDwc1XdLCKDgceBRJwby/6lqv9015kLHAJ6A81VdWSx/TV21x3K9zf0PSwiVwIPutP2AFNVNTVovYk4zzg4pSgB4Nxkdw7OjXZXq+rXIvIhcCawDshS1TEi0h74B85wCwnAC6r6oLvddJw7qycAm9y4H1TV99z5FwK/UNWzRORLN4YPRKQpzrhN/YCGODfU3Ypz09hLqjrIvdnuMPBnVf27iFwGTFLVK6vwX2XqMKtWMhFHVRcAi3DuzL0jKDGMx0kYo91BxB7FeX4CwDbgTHf6KcCNItIraLOnABcWTwyuO3EGERyIc1fqtSJylqo+727/WXdMpNQKQm8DLFTVIcB97h/ADcAhdxtj3GlzgYfdeIYBU0XkjKBttVbVM1T1OpyEMyNo3kx+eGd/kceAj9xtDsYZ22eGe5duKxFp5R6H73ASD+6/n1TwuUw9VKeHzzC12kPAT1X1maBpU3Cu7pe6QwFE4Yx8CpAE/EtEBuA8NSsF58d+kzv/dVXNKWNfE4Hr3GqroyLyijttQSVjPho0LMFi4N7SFnKrzkYD/8/9HLifow/wmfs+uC3jdeBv7vhGscBpOOP2FDcZGCoiv3PfJ/L9QIkLcRJBH5yhT/7kliIm4CRHY37AkoOJVH6cH/lgUTiPSryrlOXvxxln5gpV9YvIpzhVK0WOlbOvKEoOrVyV+ta8oNd+yv5+ReN8tuHltCeciFdVj4nIezgJoSHwpqrmlrJONHB+UUmrmE9wEkFvnCqrs4HpQL6qppWyvKnnrFrJ1CbzgBki0g6cxzKK81xocIbATnMTwyCc6qFQLcB9jKd7VT8Np76+umTiPDUvBkBVj+CULE48s1xEOotIm3K28RxOddIMSq9SAuf4/L5oPyLSSpwHC4GTHM4DGrkjrn6MU2KwKiVTKksOptZQ1c+AvwDvichqnAfMn+/Ovgv4hYgsBX4HfFGJTd8JxIvIGpyH8DytqtWWHNwx9P8LrBWRorguAQaLyBoRWYvzHIcm5WxmIdAK57ndi8tY5pc4o4Gudj/LfKCtG0MqTsmm6BGmnwCdgU+r+LFMHWe9lYwxxpRgJQdjjDElWHIwxhhTgiUHY4wxJVhyMMYYU4IlB2OMMSVYcjDGGFOCJQdjjDEl/H8wy9d9lufN6wAAAABJRU5ErkJggg==\n",
      "text/plain": [
       "<Figure size 432x288 with 1 Axes>"
      ]
     },
     "metadata": {
      "needs_background": "light"
     },
     "output_type": "display_data"
    }
   ],
   "source": [
    "series.plot(color='C0')\n",
    "decorate(xlabel='Year of interview', \n",
    "         ylabel='% in favor',\n",
    "         title='Should marijuana be made legal?')"
   ]
  },
  {
   "cell_type": "markdown",
   "metadata": {},
   "source": [
    "### Group by cohort\n",
    "\n",
    "The variable `cohort` contains respondents' year of birth."
   ]
  },
  {
   "cell_type": "code",
   "execution_count": 19,
   "metadata": {},
   "outputs": [
    {
     "data": {
      "text/plain": [
       "1883.0      2\n",
       "1884.0      3\n",
       "1885.0      2\n",
       "1886.0      4\n",
       "1887.0     10\n",
       "1888.0      5\n",
       "1889.0     14\n",
       "1890.0     19\n",
       "1891.0     25\n",
       "1892.0     20\n",
       "1893.0     29\n",
       "1894.0     47\n",
       "1895.0     43\n",
       "1896.0     41\n",
       "1897.0     52\n",
       "1898.0     62\n",
       "1899.0     93\n",
       "1900.0    120\n",
       "1901.0    104\n",
       "1902.0    111\n",
       "1903.0    128\n",
       "1904.0    138\n",
       "1905.0    169\n",
       "1906.0    171\n",
       "1907.0    236\n",
       "1908.0    191\n",
       "1909.0    257\n",
       "1910.0    236\n",
       "1911.0    255\n",
       "1912.0    326\n",
       "         ... \n",
       "1969.0    813\n",
       "1970.0    809\n",
       "1971.0    691\n",
       "1972.0    649\n",
       "1973.0    671\n",
       "1974.0    641\n",
       "1975.0    570\n",
       "1976.0    542\n",
       "1977.0    536\n",
       "1978.0    483\n",
       "1979.0    590\n",
       "1980.0    476\n",
       "1981.0    467\n",
       "1982.0    413\n",
       "1983.0    342\n",
       "1984.0    335\n",
       "1985.0    371\n",
       "1986.0    278\n",
       "1987.0    306\n",
       "1988.0    205\n",
       "1989.0    227\n",
       "1990.0    185\n",
       "1991.0    188\n",
       "1992.0    107\n",
       "1993.0    116\n",
       "1994.0    116\n",
       "1995.0     89\n",
       "1996.0     50\n",
       "1997.0     53\n",
       "1998.0      6\n",
       "Name: cohort, Length: 116, dtype: int64"
      ]
     },
     "execution_count": 19,
     "metadata": {},
     "output_type": "execute_result"
    }
   ],
   "source": [
    "counts(gss['cohort'])"
   ]
  },
  {
   "cell_type": "markdown",
   "metadata": {},
   "source": [
    "Pulling together the code from the previous section, we can plot support for legalization by year of birth."
   ]
  },
  {
   "cell_type": "code",
   "execution_count": 20,
   "metadata": {},
   "outputs": [
    {
     "data": {
      "image/png": "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\n",
      "text/plain": [
       "<Figure size 432x288 with 1 Axes>"
      ]
     },
     "metadata": {
      "needs_background": "light"
     },
     "output_type": "display_data"
    }
   ],
   "source": [
    "grouped = gss.groupby('cohort')\n",
    "series = grouped['grass'].mean()\n",
    "series.plot(color='C1')\n",
    "decorate(xlabel='Year of birth', \n",
    "         ylabel='% in favor',\n",
    "         title='Should marijuana be made legal?')"
   ]
  },
  {
   "cell_type": "markdown",
   "metadata": {},
   "source": [
    "Later generations are more likely to support legalization than earlier generations."
   ]
  },
  {
   "cell_type": "markdown",
   "metadata": {},
   "source": [
    "### Group by age\n",
    "\n",
    "Finally, let's see how support varies with age at time of interview."
   ]
  },
  {
   "cell_type": "code",
   "execution_count": 21,
   "metadata": {},
   "outputs": [
    {
     "data": {
      "image/png": "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\n",
      "text/plain": [
       "<Figure size 432x288 with 1 Axes>"
      ]
     },
     "metadata": {
      "needs_background": "light"
     },
     "output_type": "display_data"
    }
   ],
   "source": [
    "grouped = gss.groupby('age')\n",
    "series = grouped['grass'].mean()\n",
    "series.plot(color='C2')\n",
    "decorate(xlabel='Age at interview', \n",
    "         ylabel='% in favor',\n",
    "         title='Should marijuana be made legal?')"
   ]
  },
  {
   "cell_type": "markdown",
   "metadata": {},
   "source": [
    "Younger people are more likely to support legalization than old people.\n",
    "\n",
    "In general, it is not easy to separate period, cohort, and age effects, but there are ways.  We'll come back to this example to see how."
   ]
  },
  {
   "cell_type": "code",
   "execution_count": null,
   "metadata": {},
   "outputs": [],
   "source": []
  }
 ],
 "metadata": {
  "kernelspec": {
   "display_name": "Python 3",
   "language": "python",
   "name": "python3"
  },
  "language_info": {
   "codemirror_mode": {
    "name": "ipython",
    "version": 3
   },
   "file_extension": ".py",
   "mimetype": "text/x-python",
   "name": "python",
   "nbconvert_exporter": "python",
   "pygments_lexer": "ipython3",
<<<<<<< HEAD
   "version": "3.6.8"
=======
   "version": "3.7.2"
>>>>>>> 92c88e52286effcece24d4370621890fc12ecb5a
  }
 },
 "nbformat": 4,
 "nbformat_minor": 2
}
