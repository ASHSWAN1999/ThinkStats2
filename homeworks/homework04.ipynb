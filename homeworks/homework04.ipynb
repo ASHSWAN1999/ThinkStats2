{
 "cells": [
  {
   "cell_type": "markdown",
   "metadata": {},
   "source": [
    "# Homework 4\n",
    "\n",
    "Regression\n",
    "\n",
    "Allen Downey\n",
    "\n",
    "[MIT License](https://en.wikipedia.org/wiki/MIT_License)"
   ]
  },
  {
   "cell_type": "code",
   "execution_count": 1,
   "metadata": {},
   "outputs": [],
   "source": [
    "%matplotlib inline\n",
    "\n",
    "import pandas as pd\n",
    "import numpy as np\n",
    "\n",
    "import matplotlib.pyplot as plt\n",
    "import seaborn as sns\n",
    "sns.set(style='white')\n",
    "\n",
    "from utils import decorate\n",
    "from thinkstats2 import Pmf, Cdf\n",
    "\n",
    "import thinkstats2\n",
    "import thinkplot\n",
    "\n",
    "from scipy import stats\n",
    "stats.chisqprob = lambda chisq, df: stats.chi2.sf(chisq, df)"
   ]
  },
  {
   "cell_type": "markdown",
   "metadata": {},
   "source": [
    "### Simple regression\n",
    "\n",
    "An important thing to remember about regression is that it is not symmetric; that is, the regression of A onto B is not the same as the regression of B onto A.\n",
    "\n",
    "To demonstrate, I'll load data from the BRFSS."
   ]
  },
  {
   "cell_type": "code",
   "execution_count": 2,
   "metadata": {},
   "outputs": [
    {
     "name": "stdout",
     "output_type": "stream",
     "text": [
      "CPU times: user 26.3 ms, sys: 4.89 ms, total: 31.2 ms\n",
      "Wall time: 29.6 ms\n"
     ]
    }
   ],
   "source": [
    "%time brfss = pd.read_hdf('brfss.hdf5', 'brfss')"
   ]
  },
  {
   "cell_type": "code",
   "execution_count": 3,
   "metadata": {},
   "outputs": [
    {
     "data": {
      "text/html": [
       "<div>\n",
       "<style>\n",
       "    .dataframe thead tr:only-child th {\n",
       "        text-align: right;\n",
       "    }\n",
       "\n",
       "    .dataframe thead th {\n",
       "        text-align: left;\n",
       "    }\n",
       "\n",
       "    .dataframe tbody tr th {\n",
       "        vertical-align: top;\n",
       "    }\n",
       "</style>\n",
       "<table border=\"1\" class=\"dataframe\">\n",
       "  <thead>\n",
       "    <tr style=\"text-align: right;\">\n",
       "      <th></th>\n",
       "      <th>SEX</th>\n",
       "      <th>HTM4</th>\n",
       "      <th>WTKG3</th>\n",
       "      <th>INCOME2</th>\n",
       "      <th>_LLCPWT</th>\n",
       "      <th>_AGEG5YR</th>\n",
       "      <th>_VEGESU1</th>\n",
       "      <th>_HTMG10</th>\n",
       "      <th>AGE</th>\n",
       "    </tr>\n",
       "  </thead>\n",
       "  <tbody>\n",
       "    <tr>\n",
       "      <th>96230</th>\n",
       "      <td>2.0</td>\n",
       "      <td>160.0</td>\n",
       "      <td>60.33</td>\n",
       "      <td>8.0</td>\n",
       "      <td>1398.525290</td>\n",
       "      <td>6.0</td>\n",
       "      <td>2.14</td>\n",
       "      <td>150.0</td>\n",
       "      <td>47.0</td>\n",
       "    </tr>\n",
       "    <tr>\n",
       "      <th>244920</th>\n",
       "      <td>2.0</td>\n",
       "      <td>163.0</td>\n",
       "      <td>58.97</td>\n",
       "      <td>5.0</td>\n",
       "      <td>84.057503</td>\n",
       "      <td>13.0</td>\n",
       "      <td>3.14</td>\n",
       "      <td>160.0</td>\n",
       "      <td>89.5</td>\n",
       "    </tr>\n",
       "    <tr>\n",
       "      <th>57312</th>\n",
       "      <td>2.0</td>\n",
       "      <td>163.0</td>\n",
       "      <td>72.57</td>\n",
       "      <td>8.0</td>\n",
       "      <td>390.248599</td>\n",
       "      <td>5.0</td>\n",
       "      <td>2.64</td>\n",
       "      <td>160.0</td>\n",
       "      <td>42.0</td>\n",
       "    </tr>\n",
       "    <tr>\n",
       "      <th>32573</th>\n",
       "      <td>2.0</td>\n",
       "      <td>165.0</td>\n",
       "      <td>74.84</td>\n",
       "      <td>1.0</td>\n",
       "      <td>11566.705300</td>\n",
       "      <td>3.0</td>\n",
       "      <td>1.46</td>\n",
       "      <td>160.0</td>\n",
       "      <td>32.0</td>\n",
       "    </tr>\n",
       "    <tr>\n",
       "      <th>355929</th>\n",
       "      <td>2.0</td>\n",
       "      <td>170.0</td>\n",
       "      <td>108.86</td>\n",
       "      <td>3.0</td>\n",
       "      <td>844.485450</td>\n",
       "      <td>3.0</td>\n",
       "      <td>1.81</td>\n",
       "      <td>160.0</td>\n",
       "      <td>32.0</td>\n",
       "    </tr>\n",
       "  </tbody>\n",
       "</table>\n",
       "</div>"
      ],
      "text/plain": [
       "        SEX   HTM4   WTKG3  INCOME2       _LLCPWT  _AGEG5YR  _VEGESU1  \\\n",
       "96230   2.0  160.0   60.33      8.0   1398.525290       6.0      2.14   \n",
       "244920  2.0  163.0   58.97      5.0     84.057503      13.0      3.14   \n",
       "57312   2.0  163.0   72.57      8.0    390.248599       5.0      2.64   \n",
       "32573   2.0  165.0   74.84      1.0  11566.705300       3.0      1.46   \n",
       "355929  2.0  170.0  108.86      3.0    844.485450       3.0      1.81   \n",
       "\n",
       "        _HTMG10   AGE  \n",
       "96230     150.0  47.0  \n",
       "244920    160.0  89.5  \n",
       "57312     160.0  42.0  \n",
       "32573     160.0  32.0  \n",
       "355929    160.0  32.0  "
      ]
     },
     "execution_count": 3,
     "metadata": {},
     "output_type": "execute_result"
    }
   ],
   "source": [
    "brfss.head()"
   ]
  },
  {
   "cell_type": "markdown",
   "metadata": {},
   "source": [
    "A few people report many vegetable servings per day.  To simplify the visualization, I'm going to replace values greater than 8 with 8."
   ]
  },
  {
   "cell_type": "code",
   "execution_count": 4,
   "metadata": {},
   "outputs": [],
   "source": [
    "rows = brfss['_VEGESU1'] > 8\n",
    "brfss.loc[rows, '_VEGESU1'] = 8"
   ]
  },
  {
   "cell_type": "markdown",
   "metadata": {},
   "source": [
    "We can use SciPy to compute servings of vegetables as a function of income class."
   ]
  },
  {
   "cell_type": "code",
   "execution_count": 5,
   "metadata": {},
   "outputs": [
    {
     "data": {
      "text/plain": [
       "LinregressResult(slope=0.07046729822137487, intercept=1.5140054866876373, rvalue=0.1280026484687731, pvalue=6.0642347876100535e-273, stderr=0.001988046449262333)"
      ]
     },
     "execution_count": 5,
     "metadata": {},
     "output_type": "execute_result"
    }
   ],
   "source": [
    "from scipy.stats import linregress\n",
    "\n",
    "subset = brfss.dropna(subset=['INCOME2', '_VEGESU1'])\n",
    "xs = subset['INCOME2']\n",
    "ys = subset['_VEGESU1']\n",
    "\n",
    "res = linregress(xs, ys)\n",
    "res"
   ]
  },
  {
   "cell_type": "markdown",
   "metadata": {},
   "source": [
    "Increasing income class by 1 is associated with an increase of 0.07 vegetables per day.\n",
    "\n",
    "So if we hypothesize that people with higher incomes eat more vegetables, this result would not get us too excited.\n",
    "\n",
    "We can see what the regression looks like by plotting the line of best fit on top of the scatter plot."
   ]
  },
  {
   "cell_type": "code",
   "execution_count": 6,
   "metadata": {},
   "outputs": [
    {
     "data": {
      "image/png": "[encoded data removed]",
      "text/plain": [
       "<Figure size 432x288 with 1 Axes>"
      ]
     },
     "metadata": {
      "needs_background": "light"
     },
     "output_type": "display_data"
    }
   ],
   "source": [
    "x_jitter = xs + np.random.normal(0, 0.15, len(xs))\n",
    "plt.plot(x_jitter, ys, 'o', markersize=1, alpha=0.02)\n",
    "\n",
    "plt.xlabel('Income code')\n",
    "plt.ylabel('Vegetable servings per day')\n",
    "\n",
    "fx1 = np.array([xs.min(), xs.max()])\n",
    "fy1 = res.intercept + res.slope * fx1\n",
    "\n",
    "plt.plot(fx1, fy1, '-', color='C1');"
   ]
  },
  {
   "cell_type": "markdown",
   "metadata": {},
   "source": [
    "Now let's do it the other way around, regressing income as a function of vegetable servings."
   ]
  },
  {
   "cell_type": "code",
   "execution_count": 7,
   "metadata": {},
   "outputs": [
    {
     "data": {
      "text/plain": [
       "LinregressResult(slope=0.23251463343390016, intercept=5.399902962910681, rvalue=0.1280026484687731, pvalue=6.0642347876100535e-273, stderr=0.006559778834540071)"
      ]
     },
     "execution_count": 7,
     "metadata": {},
     "output_type": "execute_result"
    }
   ],
   "source": [
    "xs = subset['_VEGESU1']\n",
    "ys = subset['INCOME2']\n",
    "\n",
    "res = linregress(xs, ys)\n",
    "res"
   ]
  },
  {
   "cell_type": "markdown",
   "metadata": {},
   "source": [
    "Again, we can plot the line of best fit on top of the scatter plot."
   ]
  },
  {
   "cell_type": "code",
   "execution_count": 8,
   "metadata": {},
   "outputs": [
    {
     "data": {
      "image/png": "[encoded data removed]",
      "text/plain": [
       "<Figure size 432x288 with 1 Axes>"
      ]
     },
     "metadata": {
      "needs_background": "light"
     },
     "output_type": "display_data"
    }
   ],
   "source": [
    "y_jitter = ys + np.random.normal(0, 0.3, len(xs))\n",
    "plt.plot(xs, y_jitter, 'o', markersize=1, alpha=0.02)\n",
    "\n",
    "plt.ylabel('Income code')\n",
    "plt.xlabel('Vegetable servings per day')\n",
    "\n",
    "fx2 = np.array([xs.min(), xs.max()])\n",
    "fy2 = res.intercept + res.slope * fx2\n",
    "\n",
    "plt.plot(fx2, fy2, '-', color='C2');"
   ]
  },
  {
   "cell_type": "markdown",
   "metadata": {},
   "source": [
    "The slope looks more impressive now.  Each additional serving corresponds to 0.24 income codes, and each income code is several thousand dollars.  So a result that seemed unimpressive in one direction seems more intruiging in the other direction.\n",
    "\n",
    "\n",
    "But the primary point here is that regression is not symmetric.  To see it more clearly, I'll plot both regression lines on top of the scatter plot.\n",
    "\n",
    "The green line is income as a function of vegetables; the orange line is vegetables as a function of income.\n"
   ]
  },
  {
   "cell_type": "code",
   "execution_count": 9,
   "metadata": {},
   "outputs": [
    {
     "data": {
      "image/png": "[encoded data removed]",
      "text/plain": [
       "<Figure size 432x288 with 1 Axes>"
      ]
     },
     "metadata": {
      "needs_background": "light"
     },
     "output_type": "display_data"
    }
   ],
   "source": [
    "y_jitter = ys + np.random.normal(0, 0.3, len(xs))\n",
    "plt.plot(xs, y_jitter, 'o', markersize=1, alpha=0.02)\n",
    "\n",
    "plt.ylabel('Income code')\n",
    "plt.xlabel('Vegetable servings per day')\n",
    "\n",
    "fx2 = np.array([xs.min(), xs.max()])\n",
    "fy2 = res.intercept + res.slope * fx2\n",
    "\n",
    "plt.plot(fx2, fy2, '-', color='C2')\n",
    "plt.plot(fy1, fx1, '-', color='C1');"
   ]
  },
  {
   "cell_type": "markdown",
   "metadata": {},
   "source": [
    "And here's the same thing the other way around."
   ]
  },
  {
   "cell_type": "code",
   "execution_count": 10,
   "metadata": {},
   "outputs": [
    {
     "data": {
      "image/png": "[encoded data removed]",
      "text/plain": [
       "<Figure size 432x288 with 1 Axes>"
      ]
     },
     "metadata": {
      "needs_background": "light"
     },
     "output_type": "display_data"
    }
   ],
   "source": [
    "xs = subset['INCOME2']\n",
    "ys = subset['_VEGESU1']\n",
    "\n",
    "res = linregress(xs, ys)\n",
    "res\n",
    "\n",
    "x_jitter = xs + np.random.normal(0, 0.15, len(xs))\n",
    "plt.plot(x_jitter, ys, 'o', markersize=1, alpha=0.02)\n",
    "\n",
    "plt.xlabel('Income code')\n",
    "plt.ylabel('Vegetable servings per day')\n",
    "\n",
    "fx1 = np.array([xs.min(), xs.max()])\n",
    "fy1 = res.intercept + res.slope * fx1\n",
    "\n",
    "plt.plot(fx1, fy1, '-', color='C1')\n",
    "plt.plot(fy2, fx1, '-', color='C2');"
   ]
  },
  {
   "cell_type": "markdown",
   "metadata": {},
   "source": [
    "### StatsModels\n",
    "\n",
    "So far we have used `scipy.linregress` to run simple regression.  Sadly, that function doesn't do multiple regression, so we have to switch to a new library, StatsModels.\n",
    "\n",
    "Here's the same example from the previous section, using StatsModels."
   ]
  },
  {
   "cell_type": "code",
   "execution_count": 11,
   "metadata": {},
   "outputs": [
    {
     "data": {
      "text/plain": [
       "<statsmodels.regression.linear_model.OLS at 0x7f4dfb231c50>"
      ]
     },
     "execution_count": 11,
     "metadata": {},
     "output_type": "execute_result"
    }
   ],
   "source": [
    "import statsmodels.formula.api as smf\n",
    "\n",
    "model = smf.ols('INCOME2 ~ _VEGESU1', data=brfss)\n",
    "model"
   ]
  },
  {
   "cell_type": "markdown",
   "metadata": {},
   "source": [
    "The result is an `OLS` object, which we have to `fit`:"
   ]
  },
  {
   "cell_type": "code",
   "execution_count": 12,
   "metadata": {},
   "outputs": [
    {
     "data": {
      "text/plain": [
       "<statsmodels.regression.linear_model.RegressionResultsWrapper at 0x7f4dfb2fb7b8>"
      ]
     },
     "execution_count": 12,
     "metadata": {},
     "output_type": "execute_result"
    }
   ],
   "source": [
    "results = model.fit()\n",
    "results"
   ]
  },
  {
   "cell_type": "markdown",
   "metadata": {},
   "source": [
    "`results` contains a lot of information about the regression, which we can view using `summary`."
   ]
  },
  {
   "cell_type": "code",
   "execution_count": 13,
   "metadata": {},
   "outputs": [
    {
     "data": {
      "text/html": [
       "<table class=\"simpletable\">\n",
       "<caption>OLS Regression Results</caption>\n",
       "<tr>\n",
       "  <th>Dep. Variable:</th>         <td>INCOME2</td>     <th>  R-squared:         </th>  <td>   0.016</td>  \n",
       "</tr>\n",
       "<tr>\n",
       "  <th>Model:</th>                   <td>OLS</td>       <th>  Adj. R-squared:    </th>  <td>   0.016</td>  \n",
       "</tr>\n",
       "<tr>\n",
       "  <th>Method:</th>             <td>Least Squares</td>  <th>  F-statistic:       </th>  <td>   1256.</td>  \n",
       "</tr>\n",
       "<tr>\n",
       "  <th>Date:</th>             <td>Thu, 04 Apr 2019</td> <th>  Prob (F-statistic):</th>  <td>6.06e-273</td> \n",
       "</tr>\n",
       "<tr>\n",
       "  <th>Time:</th>                 <td>09:03:01</td>     <th>  Log-Likelihood:    </th> <td>-1.6621e+05</td>\n",
       "</tr>\n",
       "<tr>\n",
       "  <th>No. Observations:</th>      <td> 75426</td>      <th>  AIC:               </th>  <td>3.324e+05</td> \n",
       "</tr>\n",
       "<tr>\n",
       "  <th>Df Residuals:</th>          <td> 75424</td>      <th>  BIC:               </th>  <td>3.324e+05</td> \n",
       "</tr>\n",
       "<tr>\n",
       "  <th>Df Model:</th>              <td>     1</td>      <th>                     </th>      <td> </td>     \n",
       "</tr>\n",
       "<tr>\n",
       "  <th>Covariance Type:</th>      <td>nonrobust</td>    <th>                     </th>      <td> </td>     \n",
       "</tr>\n",
       "</table>\n",
       "<table class=\"simpletable\">\n",
       "<tr>\n",
       "      <td></td>         <th>coef</th>     <th>std err</th>      <th>t</th>      <th>P>|t|</th>  <th>[0.025</th>    <th>0.975]</th>  \n",
       "</tr>\n",
       "<tr>\n",
       "  <th>Intercept</th> <td>    5.3999</td> <td>    0.015</td> <td>  361.346</td> <td> 0.000</td> <td>    5.371</td> <td>    5.429</td>\n",
       "</tr>\n",
       "<tr>\n",
       "  <th>_VEGESU1</th>  <td>    0.2325</td> <td>    0.007</td> <td>   35.445</td> <td> 0.000</td> <td>    0.220</td> <td>    0.245</td>\n",
       "</tr>\n",
       "</table>\n",
       "<table class=\"simpletable\">\n",
       "<tr>\n",
       "  <th>Omnibus:</th>       <td>7792.716</td> <th>  Durbin-Watson:     </th> <td>   2.000</td>\n",
       "</tr>\n",
       "<tr>\n",
       "  <th>Prob(Omnibus):</th>  <td> 0.000</td>  <th>  Jarque-Bera (JB):  </th> <td>8127.444</td>\n",
       "</tr>\n",
       "<tr>\n",
       "  <th>Skew:</th>           <td>-0.752</td>  <th>  Prob(JB):          </th> <td>    0.00</td>\n",
       "</tr>\n",
       "<tr>\n",
       "  <th>Kurtosis:</th>       <td> 2.430</td>  <th>  Cond. No.          </th> <td>    4.88</td>\n",
       "</tr>\n",
       "</table>"
      ],
      "text/plain": [
       "<class 'statsmodels.iolib.summary.Summary'>\n",
       "\"\"\"\n",
       "                            OLS Regression Results                            \n",
       "==============================================================================\n",
       "Dep. Variable:                INCOME2   R-squared:                       0.016\n",
       "Model:                            OLS   Adj. R-squared:                  0.016\n",
       "Method:                 Least Squares   F-statistic:                     1256.\n",
       "Date:                Thu, 04 Apr 2019   Prob (F-statistic):          6.06e-273\n",
       "Time:                        09:03:01   Log-Likelihood:            -1.6621e+05\n",
       "No. Observations:               75426   AIC:                         3.324e+05\n",
       "Df Residuals:                   75424   BIC:                         3.324e+05\n",
       "Df Model:                           1                                         \n",
       "Covariance Type:            nonrobust                                         \n",
       "==============================================================================\n",
       "                 coef    std err          t      P>|t|      [0.025      0.975]\n",
       "------------------------------------------------------------------------------\n",
       "Intercept      5.3999      0.015    361.346      0.000       5.371       5.429\n",
       "_VEGESU1       0.2325      0.007     35.445      0.000       0.220       0.245\n",
       "==============================================================================\n",
       "Omnibus:                     7792.716   Durbin-Watson:                   2.000\n",
       "Prob(Omnibus):                  0.000   Jarque-Bera (JB):             8127.444\n",
       "Skew:                          -0.752   Prob(JB):                         0.00\n",
       "Kurtosis:                       2.430   Cond. No.                         4.88\n",
       "==============================================================================\n",
       "\n",
       "Warnings:\n",
       "[1] Standard Errors assume that the covariance matrix of the errors is correctly specified.\n",
       "\"\"\""
      ]
     },
     "execution_count": 13,
     "metadata": {},
     "output_type": "execute_result"
    }
   ],
   "source": [
    "results.summary()"
   ]
  },
  {
   "cell_type": "markdown",
   "metadata": {},
   "source": [
    "One of the parts we're interested in is `params`, which is a Pandas Series containing the estimated parameters."
   ]
  },
  {
   "cell_type": "code",
   "execution_count": 14,
   "metadata": {},
   "outputs": [
    {
     "data": {
      "text/plain": [
       "Intercept    5.399903\n",
       "_VEGESU1     0.232515\n",
       "dtype: float64"
      ]
     },
     "execution_count": 14,
     "metadata": {},
     "output_type": "execute_result"
    }
   ],
   "source": [
    "results.params"
   ]
  },
  {
   "cell_type": "markdown",
   "metadata": {},
   "source": [
    "And `rsquared` contains the coefficient of determination, $R^2$, which is pretty small in this case."
   ]
  },
  {
   "cell_type": "code",
   "execution_count": 15,
   "metadata": {},
   "outputs": [
    {
     "data": {
      "text/plain": [
       "0.016384678015020415"
      ]
     },
     "execution_count": 15,
     "metadata": {},
     "output_type": "execute_result"
    }
   ],
   "source": [
    "results.rsquared"
   ]
  },
  {
   "cell_type": "markdown",
   "metadata": {},
   "source": [
    "We can confirm that $R^2 = \\rho^2$:"
   ]
  },
  {
   "cell_type": "code",
   "execution_count": 16,
   "metadata": {},
   "outputs": [
    {
     "data": {
      "text/plain": [
       "0.12800264846877354"
      ]
     },
     "execution_count": 16,
     "metadata": {},
     "output_type": "execute_result"
    }
   ],
   "source": [
    "np.sqrt(results.rsquared)"
   ]
  },
  {
   "cell_type": "code",
   "execution_count": 17,
   "metadata": {},
   "outputs": [
    {
     "data": {
      "text/html": [
       "<div>\n",
       "<style>\n",
       "    .dataframe thead tr:only-child th {\n",
       "        text-align: right;\n",
       "    }\n",
       "\n",
       "    .dataframe thead th {\n",
       "        text-align: left;\n",
       "    }\n",
       "\n",
       "    .dataframe tbody tr th {\n",
       "        vertical-align: top;\n",
       "    }\n",
       "</style>\n",
       "<table border=\"1\" class=\"dataframe\">\n",
       "  <thead>\n",
       "    <tr style=\"text-align: right;\">\n",
       "      <th></th>\n",
       "      <th>INCOME2</th>\n",
       "      <th>_VEGESU1</th>\n",
       "    </tr>\n",
       "  </thead>\n",
       "  <tbody>\n",
       "    <tr>\n",
       "      <th>INCOME2</th>\n",
       "      <td>1.000000</td>\n",
       "      <td>0.128003</td>\n",
       "    </tr>\n",
       "    <tr>\n",
       "      <th>_VEGESU1</th>\n",
       "      <td>0.128003</td>\n",
       "      <td>1.000000</td>\n",
       "    </tr>\n",
       "  </tbody>\n",
       "</table>\n",
       "</div>"
      ],
      "text/plain": [
       "           INCOME2  _VEGESU1\n",
       "INCOME2   1.000000  0.128003\n",
       "_VEGESU1  0.128003  1.000000"
      ]
     },
     "execution_count": 17,
     "metadata": {},
     "output_type": "execute_result"
    }
   ],
   "source": [
    "columns = ['INCOME2', '_VEGESU1']\n",
    "brfss[columns].corr()"
   ]
  },
  {
   "cell_type": "markdown",
   "metadata": {},
   "source": [
    "**Exercise:** Run this regression in the other direction and confirm that you get the same estimated slope we got from `linregress`.  Also confirm that $R^2$ is the same in either direction (which we know because correlation is the same in either direction)."
   ]
  },
  {
   "cell_type": "code",
   "execution_count": 18,
   "metadata": {},
   "outputs": [
    {
     "data": {
      "text/html": [
       "<table class=\"simpletable\">\n",
       "<caption>OLS Regression Results</caption>\n",
       "<tr>\n",
       "  <th>Dep. Variable:</th>        <td>_VEGESU1</td>     <th>  R-squared:         </th>  <td>   0.016</td>  \n",
       "</tr>\n",
       "<tr>\n",
       "  <th>Model:</th>                   <td>OLS</td>       <th>  Adj. R-squared:    </th>  <td>   0.016</td>  \n",
       "</tr>\n",
       "<tr>\n",
       "  <th>Method:</th>             <td>Least Squares</td>  <th>  F-statistic:       </th>  <td>   1256.</td>  \n",
       "</tr>\n",
       "<tr>\n",
       "  <th>Date:</th>             <td>Thu, 04 Apr 2019</td> <th>  Prob (F-statistic):</th>  <td>6.06e-273</td> \n",
       "</tr>\n",
       "<tr>\n",
       "  <th>Time:</th>                 <td>09:03:01</td>     <th>  Log-Likelihood:    </th> <td>-1.2119e+05</td>\n",
       "</tr>\n",
       "<tr>\n",
       "  <th>No. Observations:</th>      <td> 75426</td>      <th>  AIC:               </th>  <td>2.424e+05</td> \n",
       "</tr>\n",
       "<tr>\n",
       "  <th>Df Residuals:</th>          <td> 75424</td>      <th>  BIC:               </th>  <td>2.424e+05</td> \n",
       "</tr>\n",
       "<tr>\n",
       "  <th>Df Model:</th>              <td>     1</td>      <th>                     </th>      <td> </td>     \n",
       "</tr>\n",
       "<tr>\n",
       "  <th>Covariance Type:</th>      <td>nonrobust</td>    <th>                     </th>      <td> </td>     \n",
       "</tr>\n",
       "</table>\n",
       "<table class=\"simpletable\">\n",
       "<tr>\n",
       "      <td></td>         <th>coef</th>     <th>std err</th>      <th>t</th>      <th>P>|t|</th>  <th>[0.025</th>    <th>0.975]</th>  \n",
       "</tr>\n",
       "<tr>\n",
       "  <th>Intercept</th> <td>    1.5140</td> <td>    0.012</td> <td>  121.822</td> <td> 0.000</td> <td>    1.490</td> <td>    1.538</td>\n",
       "</tr>\n",
       "<tr>\n",
       "  <th>INCOME2</th>   <td>    0.0705</td> <td>    0.002</td> <td>   35.445</td> <td> 0.000</td> <td>    0.067</td> <td>    0.074</td>\n",
       "</tr>\n",
       "</table>\n",
       "<table class=\"simpletable\">\n",
       "<tr>\n",
       "  <th>Omnibus:</th>       <td>27267.115</td> <th>  Durbin-Watson:     </th>  <td>   2.009</td> \n",
       "</tr>\n",
       "<tr>\n",
       "  <th>Prob(Omnibus):</th>  <td> 0.000</td>   <th>  Jarque-Bera (JB):  </th> <td>115258.690</td>\n",
       "</tr>\n",
       "<tr>\n",
       "  <th>Skew:</th>           <td> 1.756</td>   <th>  Prob(JB):          </th>  <td>    0.00</td> \n",
       "</tr>\n",
       "<tr>\n",
       "  <th>Kurtosis:</th>       <td> 7.933</td>   <th>  Cond. No.          </th>  <td>    18.1</td> \n",
       "</tr>\n",
       "</table>"
      ],
      "text/plain": [
       "<class 'statsmodels.iolib.summary.Summary'>\n",
       "\"\"\"\n",
       "                            OLS Regression Results                            \n",
       "==============================================================================\n",
       "Dep. Variable:               _VEGESU1   R-squared:                       0.016\n",
       "Model:                            OLS   Adj. R-squared:                  0.016\n",
       "Method:                 Least Squares   F-statistic:                     1256.\n",
       "Date:                Thu, 04 Apr 2019   Prob (F-statistic):          6.06e-273\n",
       "Time:                        09:03:01   Log-Likelihood:            -1.2119e+05\n",
       "No. Observations:               75426   AIC:                         2.424e+05\n",
       "Df Residuals:                   75424   BIC:                         2.424e+05\n",
       "Df Model:                           1                                         \n",
       "Covariance Type:            nonrobust                                         \n",
       "==============================================================================\n",
       "                 coef    std err          t      P>|t|      [0.025      0.975]\n",
       "------------------------------------------------------------------------------\n",
       "Intercept      1.5140      0.012    121.822      0.000       1.490       1.538\n",
       "INCOME2        0.0705      0.002     35.445      0.000       0.067       0.074\n",
       "==============================================================================\n",
       "Omnibus:                    27267.115   Durbin-Watson:                   2.009\n",
       "Prob(Omnibus):                  0.000   Jarque-Bera (JB):           115258.690\n",
       "Skew:                           1.756   Prob(JB):                         0.00\n",
       "Kurtosis:                       7.933   Cond. No.                         18.1\n",
       "==============================================================================\n",
       "\n",
       "Warnings:\n",
       "[1] Standard Errors assume that the covariance matrix of the errors is correctly specified.\n",
       "\"\"\""
      ]
     },
     "execution_count": 18,
     "metadata": {},
     "output_type": "execute_result"
    }
   ],
   "source": [
    "model = smf.ols('_VEGESU1 ~ INCOME2', data=brfss)\n",
    "results = model.fit()\n",
    "results.summary()"
   ]
  },
  {
   "cell_type": "code",
   "execution_count": 19,
   "metadata": {},
   "outputs": [
    {
     "data": {
      "text/plain": [
       "Intercept    1.514005\n",
       "INCOME2      0.070467\n",
       "dtype: float64"
      ]
     },
     "execution_count": 19,
     "metadata": {},
     "output_type": "execute_result"
    }
   ],
   "source": [
    "results.params"
   ]
  },
  {
   "cell_type": "markdown",
   "metadata": {},
   "source": [
    "As we can see, both regressions have an r squared value of 0.016. The intercepts and slopes are also consistent with those calculated with linregress."
   ]
  },
  {
   "cell_type": "markdown",
   "metadata": {},
   "source": [
    "### Multiple regression\n",
    "\n",
    "For experiments with multiple regression, let's load the GSS data again."
   ]
  },
  {
   "cell_type": "code",
   "execution_count": 20,
   "metadata": {},
   "outputs": [
    {
     "name": "stdout",
     "output_type": "stream",
     "text": [
      "CPU times: user 103 ms, sys: 24 ms, total: 127 ms\n",
      "Wall time: 31.5 ms\n"
     ]
    },
    {
     "data": {
      "text/plain": [
       "(62466, 101)"
      ]
     },
     "execution_count": 20,
     "metadata": {},
     "output_type": "execute_result"
    }
   ],
   "source": [
    "%time gss = pd.read_hdf('gss.hdf5', 'gss')\n",
    "gss.shape"
   ]
  },
  {
   "cell_type": "code",
   "execution_count": 21,
   "metadata": {},
   "outputs": [
    {
     "data": {
      "text/html": [
       "<div>\n",
       "<style>\n",
       "    .dataframe thead tr:only-child th {\n",
       "        text-align: right;\n",
       "    }\n",
       "\n",
       "    .dataframe thead th {\n",
       "        text-align: left;\n",
       "    }\n",
       "\n",
       "    .dataframe tbody tr th {\n",
       "        vertical-align: top;\n",
       "    }\n",
       "</style>\n",
       "<table border=\"1\" class=\"dataframe\">\n",
       "  <thead>\n",
       "    <tr style=\"text-align: right;\">\n",
       "      <th></th>\n",
       "      <th>year</th>\n",
       "      <th>id_</th>\n",
       "      <th>agewed</th>\n",
       "      <th>divorce</th>\n",
       "      <th>sibs</th>\n",
       "      <th>childs</th>\n",
       "      <th>age</th>\n",
       "      <th>educ</th>\n",
       "      <th>paeduc</th>\n",
       "      <th>maeduc</th>\n",
       "      <th>...</th>\n",
       "      <th>memchurh</th>\n",
       "      <th>realinc</th>\n",
       "      <th>cohort</th>\n",
       "      <th>marcohrt</th>\n",
       "      <th>ballot</th>\n",
       "      <th>wtssall</th>\n",
       "      <th>adults</th>\n",
       "      <th>compuse</th>\n",
       "      <th>databank</th>\n",
       "      <th>wtssnr</th>\n",
       "    </tr>\n",
       "  </thead>\n",
       "  <tbody>\n",
       "    <tr>\n",
       "      <th>0</th>\n",
       "      <td>1972</td>\n",
       "      <td>167</td>\n",
       "      <td>0</td>\n",
       "      <td>0</td>\n",
       "      <td>2</td>\n",
       "      <td>0</td>\n",
       "      <td>26.0</td>\n",
       "      <td>18.0</td>\n",
       "      <td>12</td>\n",
       "      <td>12</td>\n",
       "      <td>...</td>\n",
       "      <td>0</td>\n",
       "      <td>13537.0</td>\n",
       "      <td>1946.0</td>\n",
       "      <td>0</td>\n",
       "      <td>0</td>\n",
       "      <td>0.8893</td>\n",
       "      <td>2.0</td>\n",
       "      <td>0</td>\n",
       "      <td>0</td>\n",
       "      <td>1.0</td>\n",
       "    </tr>\n",
       "    <tr>\n",
       "      <th>1</th>\n",
       "      <td>1972</td>\n",
       "      <td>1256</td>\n",
       "      <td>30</td>\n",
       "      <td>2</td>\n",
       "      <td>0</td>\n",
       "      <td>1</td>\n",
       "      <td>38.0</td>\n",
       "      <td>12.0</td>\n",
       "      <td>97</td>\n",
       "      <td>99</td>\n",
       "      <td>...</td>\n",
       "      <td>0</td>\n",
       "      <td>18951.0</td>\n",
       "      <td>1934.0</td>\n",
       "      <td>1964</td>\n",
       "      <td>0</td>\n",
       "      <td>0.4446</td>\n",
       "      <td>1.0</td>\n",
       "      <td>0</td>\n",
       "      <td>0</td>\n",
       "      <td>1.0</td>\n",
       "    </tr>\n",
       "    <tr>\n",
       "      <th>2</th>\n",
       "      <td>1972</td>\n",
       "      <td>415</td>\n",
       "      <td>0</td>\n",
       "      <td>0</td>\n",
       "      <td>7</td>\n",
       "      <td>0</td>\n",
       "      <td>57.0</td>\n",
       "      <td>12.0</td>\n",
       "      <td>7</td>\n",
       "      <td>7</td>\n",
       "      <td>...</td>\n",
       "      <td>0</td>\n",
       "      <td>30458.0</td>\n",
       "      <td>1915.0</td>\n",
       "      <td>0</td>\n",
       "      <td>0</td>\n",
       "      <td>1.3339</td>\n",
       "      <td>3.0</td>\n",
       "      <td>0</td>\n",
       "      <td>0</td>\n",
       "      <td>1.0</td>\n",
       "    </tr>\n",
       "    <tr>\n",
       "      <th>3</th>\n",
       "      <td>1972</td>\n",
       "      <td>234</td>\n",
       "      <td>18</td>\n",
       "      <td>1</td>\n",
       "      <td>6</td>\n",
       "      <td>3</td>\n",
       "      <td>61.0</td>\n",
       "      <td>14.0</td>\n",
       "      <td>8</td>\n",
       "      <td>5</td>\n",
       "      <td>...</td>\n",
       "      <td>0</td>\n",
       "      <td>37226.0</td>\n",
       "      <td>1911.0</td>\n",
       "      <td>1929</td>\n",
       "      <td>0</td>\n",
       "      <td>0.8893</td>\n",
       "      <td>2.0</td>\n",
       "      <td>0</td>\n",
       "      <td>0</td>\n",
       "      <td>1.0</td>\n",
       "    </tr>\n",
       "    <tr>\n",
       "      <th>4</th>\n",
       "      <td>1972</td>\n",
       "      <td>554</td>\n",
       "      <td>22</td>\n",
       "      <td>2</td>\n",
       "      <td>3</td>\n",
       "      <td>3</td>\n",
       "      <td>59.0</td>\n",
       "      <td>12.0</td>\n",
       "      <td>6</td>\n",
       "      <td>11</td>\n",
       "      <td>...</td>\n",
       "      <td>0</td>\n",
       "      <td>30458.0</td>\n",
       "      <td>1913.0</td>\n",
       "      <td>1935</td>\n",
       "      <td>0</td>\n",
       "      <td>0.8893</td>\n",
       "      <td>2.0</td>\n",
       "      <td>0</td>\n",
       "      <td>0</td>\n",
       "      <td>1.0</td>\n",
       "    </tr>\n",
       "  </tbody>\n",
       "</table>\n",
       "<p>5 rows × 101 columns</p>\n",
       "</div>"
      ],
      "text/plain": [
       "   year   id_  agewed  divorce  sibs  childs   age  educ  paeduc  maeduc  \\\n",
       "0  1972   167       0        0     2       0  26.0  18.0      12      12   \n",
       "1  1972  1256      30        2     0       1  38.0  12.0      97      99   \n",
       "2  1972   415       0        0     7       0  57.0  12.0       7       7   \n",
       "3  1972   234      18        1     6       3  61.0  14.0       8       5   \n",
       "4  1972   554      22        2     3       3  59.0  12.0       6      11   \n",
       "\n",
       "    ...    memchurh  realinc  cohort  marcohrt  ballot  wtssall  adults  \\\n",
       "0   ...           0  13537.0  1946.0         0       0   0.8893     2.0   \n",
       "1   ...           0  18951.0  1934.0      1964       0   0.4446     1.0   \n",
       "2   ...           0  30458.0  1915.0         0       0   1.3339     3.0   \n",
       "3   ...           0  37226.0  1911.0      1929       0   0.8893     2.0   \n",
       "4   ...           0  30458.0  1913.0      1935       0   0.8893     2.0   \n",
       "\n",
       "   compuse  databank  wtssnr  \n",
       "0        0         0     1.0  \n",
       "1        0         0     1.0  \n",
       "2        0         0     1.0  \n",
       "3        0         0     1.0  \n",
       "4        0         0     1.0  \n",
       "\n",
       "[5 rows x 101 columns]"
      ]
     },
     "execution_count": 21,
     "metadata": {},
     "output_type": "execute_result"
    }
   ],
   "source": [
    "gss.head()"
   ]
  },
  {
   "cell_type": "code",
   "execution_count": 22,
   "metadata": {},
   "outputs": [
    {
     "data": {
      "text/html": [
       "<div>\n",
       "<style>\n",
       "    .dataframe thead tr:only-child th {\n",
       "        text-align: right;\n",
       "    }\n",
       "\n",
       "    .dataframe thead th {\n",
       "        text-align: left;\n",
       "    }\n",
       "\n",
       "    .dataframe tbody tr th {\n",
       "        vertical-align: top;\n",
       "    }\n",
       "</style>\n",
       "<table border=\"1\" class=\"dataframe\">\n",
       "  <thead>\n",
       "    <tr style=\"text-align: right;\">\n",
       "      <th></th>\n",
       "      <th>year</th>\n",
       "      <th>id_</th>\n",
       "      <th>agewed</th>\n",
       "      <th>divorce</th>\n",
       "      <th>sibs</th>\n",
       "      <th>childs</th>\n",
       "      <th>age</th>\n",
       "      <th>educ</th>\n",
       "      <th>paeduc</th>\n",
       "      <th>maeduc</th>\n",
       "      <th>...</th>\n",
       "      <th>memchurh</th>\n",
       "      <th>realinc</th>\n",
       "      <th>cohort</th>\n",
       "      <th>marcohrt</th>\n",
       "      <th>ballot</th>\n",
       "      <th>wtssall</th>\n",
       "      <th>adults</th>\n",
       "      <th>compuse</th>\n",
       "      <th>databank</th>\n",
       "      <th>wtssnr</th>\n",
       "    </tr>\n",
       "  </thead>\n",
       "  <tbody>\n",
       "    <tr>\n",
       "      <th>count</th>\n",
       "      <td>62466.000000</td>\n",
       "      <td>62466.000000</td>\n",
       "      <td>62466.000000</td>\n",
       "      <td>62466.000000</td>\n",
       "      <td>62466.000000</td>\n",
       "      <td>62466.000000</td>\n",
       "      <td>62281.000000</td>\n",
       "      <td>62304.000000</td>\n",
       "      <td>62466.000000</td>\n",
       "      <td>62466.000000</td>\n",
       "      <td>...</td>\n",
       "      <td>62466.000000</td>\n",
       "      <td>55499.000000</td>\n",
       "      <td>62282.000000</td>\n",
       "      <td>62466.000000</td>\n",
       "      <td>62466.000000</td>\n",
       "      <td>62466.000000</td>\n",
       "      <td>62403.000000</td>\n",
       "      <td>62466.000000</td>\n",
       "      <td>62466.000000</td>\n",
       "      <td>62466.000000</td>\n",
       "    </tr>\n",
       "    <tr>\n",
       "      <th>mean</th>\n",
       "      <td>1994.072359</td>\n",
       "      <td>1141.800211</td>\n",
       "      <td>9.615247</td>\n",
       "      <td>1.221160</td>\n",
       "      <td>4.005699</td>\n",
       "      <td>1.998687</td>\n",
       "      <td>44.648320</td>\n",
       "      <td>12.831311</td>\n",
       "      <td>35.081772</td>\n",
       "      <td>24.966254</td>\n",
       "      <td>...</td>\n",
       "      <td>0.570807</td>\n",
       "      <td>34702.430164</td>\n",
       "      <td>1949.429996</td>\n",
       "      <td>827.367960</td>\n",
       "      <td>1.348029</td>\n",
       "      <td>1.213340</td>\n",
       "      <td>2.250228</td>\n",
       "      <td>0.255531</td>\n",
       "      <td>0.136522</td>\n",
       "      <td>1.097119</td>\n",
       "    </tr>\n",
       "    <tr>\n",
       "      <th>std</th>\n",
       "      <td>12.937941</td>\n",
       "      <td>836.093963</td>\n",
       "      <td>12.340079</td>\n",
       "      <td>1.028511</td>\n",
       "      <td>5.601574</td>\n",
       "      <td>1.854561</td>\n",
       "      <td>17.072244</td>\n",
       "      <td>3.117027</td>\n",
       "      <td>39.146742</td>\n",
       "      <td>32.228130</td>\n",
       "      <td>...</td>\n",
       "      <td>0.947610</td>\n",
       "      <td>30665.659411</td>\n",
       "      <td>20.734302</td>\n",
       "      <td>1125.171461</td>\n",
       "      <td>1.219954</td>\n",
       "      <td>0.585544</td>\n",
       "      <td>0.936869</td>\n",
       "      <td>0.586423</td>\n",
       "      <td>0.687817</td>\n",
       "      <td>0.471973</td>\n",
       "    </tr>\n",
       "    <tr>\n",
       "      <th>min</th>\n",
       "      <td>1972.000000</td>\n",
       "      <td>1.000000</td>\n",
       "      <td>0.000000</td>\n",
       "      <td>0.000000</td>\n",
       "      <td>-1.000000</td>\n",
       "      <td>0.000000</td>\n",
       "      <td>18.000000</td>\n",
       "      <td>0.000000</td>\n",
       "      <td>0.000000</td>\n",
       "      <td>0.000000</td>\n",
       "      <td>...</td>\n",
       "      <td>0.000000</td>\n",
       "      <td>234.000000</td>\n",
       "      <td>1883.000000</td>\n",
       "      <td>0.000000</td>\n",
       "      <td>0.000000</td>\n",
       "      <td>0.411898</td>\n",
       "      <td>1.000000</td>\n",
       "      <td>0.000000</td>\n",
       "      <td>0.000000</td>\n",
       "      <td>0.293074</td>\n",
       "    </tr>\n",
       "    <tr>\n",
       "      <th>25%</th>\n",
       "      <td>1984.000000</td>\n",
       "      <td>487.000000</td>\n",
       "      <td>0.000000</td>\n",
       "      <td>0.000000</td>\n",
       "      <td>2.000000</td>\n",
       "      <td>0.000000</td>\n",
       "      <td>30.000000</td>\n",
       "      <td>12.000000</td>\n",
       "      <td>9.000000</td>\n",
       "      <td>9.000000</td>\n",
       "      <td>...</td>\n",
       "      <td>0.000000</td>\n",
       "      <td>13750.000000</td>\n",
       "      <td>1935.000000</td>\n",
       "      <td>0.000000</td>\n",
       "      <td>0.000000</td>\n",
       "      <td>0.918400</td>\n",
       "      <td>2.000000</td>\n",
       "      <td>0.000000</td>\n",
       "      <td>0.000000</td>\n",
       "      <td>1.000000</td>\n",
       "    </tr>\n",
       "    <tr>\n",
       "      <th>50%</th>\n",
       "      <td>1994.000000</td>\n",
       "      <td>1012.000000</td>\n",
       "      <td>0.000000</td>\n",
       "      <td>2.000000</td>\n",
       "      <td>3.000000</td>\n",
       "      <td>2.000000</td>\n",
       "      <td>43.000000</td>\n",
       "      <td>12.000000</td>\n",
       "      <td>12.000000</td>\n",
       "      <td>12.000000</td>\n",
       "      <td>...</td>\n",
       "      <td>0.000000</td>\n",
       "      <td>26015.000000</td>\n",
       "      <td>1951.000000</td>\n",
       "      <td>0.000000</td>\n",
       "      <td>1.000000</td>\n",
       "      <td>1.062100</td>\n",
       "      <td>2.000000</td>\n",
       "      <td>0.000000</td>\n",
       "      <td>0.000000</td>\n",
       "      <td>1.000000</td>\n",
       "    </tr>\n",
       "    <tr>\n",
       "      <th>75%</th>\n",
       "      <td>2006.000000</td>\n",
       "      <td>1546.000000</td>\n",
       "      <td>20.000000</td>\n",
       "      <td>2.000000</td>\n",
       "      <td>5.000000</td>\n",
       "      <td>3.000000</td>\n",
       "      <td>57.000000</td>\n",
       "      <td>15.000000</td>\n",
       "      <td>97.000000</td>\n",
       "      <td>16.000000</td>\n",
       "      <td>...</td>\n",
       "      <td>1.000000</td>\n",
       "      <td>43426.000000</td>\n",
       "      <td>1964.000000</td>\n",
       "      <td>1953.000000</td>\n",
       "      <td>2.000000</td>\n",
       "      <td>1.515500</td>\n",
       "      <td>3.000000</td>\n",
       "      <td>0.000000</td>\n",
       "      <td>0.000000</td>\n",
       "      <td>1.000000</td>\n",
       "    </tr>\n",
       "    <tr>\n",
       "      <th>max</th>\n",
       "      <td>2016.000000</td>\n",
       "      <td>4510.000000</td>\n",
       "      <td>99.000000</td>\n",
       "      <td>9.000000</td>\n",
       "      <td>99.000000</td>\n",
       "      <td>9.000000</td>\n",
       "      <td>89.000000</td>\n",
       "      <td>20.000000</td>\n",
       "      <td>99.000000</td>\n",
       "      <td>99.000000</td>\n",
       "      <td>...</td>\n",
       "      <td>9.000000</td>\n",
       "      <td>162607.000000</td>\n",
       "      <td>1998.000000</td>\n",
       "      <td>9999.000000</td>\n",
       "      <td>4.000000</td>\n",
       "      <td>8.739876</td>\n",
       "      <td>8.000000</td>\n",
       "      <td>9.000000</td>\n",
       "      <td>9.000000</td>\n",
       "      <td>11.068476</td>\n",
       "    </tr>\n",
       "  </tbody>\n",
       "</table>\n",
       "<p>8 rows × 101 columns</p>\n",
       "</div>"
      ],
      "text/plain": [
       "               year           id_        agewed       divorce          sibs  \\\n",
       "count  62466.000000  62466.000000  62466.000000  62466.000000  62466.000000   \n",
       "mean    1994.072359   1141.800211      9.615247      1.221160      4.005699   \n",
       "std       12.937941    836.093963     12.340079      1.028511      5.601574   \n",
       "min     1972.000000      1.000000      0.000000      0.000000     -1.000000   \n",
       "25%     1984.000000    487.000000      0.000000      0.000000      2.000000   \n",
       "50%     1994.000000   1012.000000      0.000000      2.000000      3.000000   \n",
       "75%     2006.000000   1546.000000     20.000000      2.000000      5.000000   \n",
       "max     2016.000000   4510.000000     99.000000      9.000000     99.000000   \n",
       "\n",
       "             childs           age          educ        paeduc        maeduc  \\\n",
       "count  62466.000000  62281.000000  62304.000000  62466.000000  62466.000000   \n",
       "mean       1.998687     44.648320     12.831311     35.081772     24.966254   \n",
       "std        1.854561     17.072244      3.117027     39.146742     32.228130   \n",
       "min        0.000000     18.000000      0.000000      0.000000      0.000000   \n",
       "25%        0.000000     30.000000     12.000000      9.000000      9.000000   \n",
       "50%        2.000000     43.000000     12.000000     12.000000     12.000000   \n",
       "75%        3.000000     57.000000     15.000000     97.000000     16.000000   \n",
       "max        9.000000     89.000000     20.000000     99.000000     99.000000   \n",
       "\n",
       "           ...           memchurh        realinc        cohort      marcohrt  \\\n",
       "count      ...       62466.000000   55499.000000  62282.000000  62466.000000   \n",
       "mean       ...           0.570807   34702.430164   1949.429996    827.367960   \n",
       "std        ...           0.947610   30665.659411     20.734302   1125.171461   \n",
       "min        ...           0.000000     234.000000   1883.000000      0.000000   \n",
       "25%        ...           0.000000   13750.000000   1935.000000      0.000000   \n",
       "50%        ...           0.000000   26015.000000   1951.000000      0.000000   \n",
       "75%        ...           1.000000   43426.000000   1964.000000   1953.000000   \n",
       "max        ...           9.000000  162607.000000   1998.000000   9999.000000   \n",
       "\n",
       "             ballot       wtssall        adults       compuse      databank  \\\n",
       "count  62466.000000  62466.000000  62403.000000  62466.000000  62466.000000   \n",
       "mean       1.348029      1.213340      2.250228      0.255531      0.136522   \n",
       "std        1.219954      0.585544      0.936869      0.586423      0.687817   \n",
       "min        0.000000      0.411898      1.000000      0.000000      0.000000   \n",
       "25%        0.000000      0.918400      2.000000      0.000000      0.000000   \n",
       "50%        1.000000      1.062100      2.000000      0.000000      0.000000   \n",
       "75%        2.000000      1.515500      3.000000      0.000000      0.000000   \n",
       "max        4.000000      8.739876      8.000000      9.000000      9.000000   \n",
       "\n",
       "             wtssnr  \n",
       "count  62466.000000  \n",
       "mean       1.097119  \n",
       "std        0.471973  \n",
       "min        0.293074  \n",
       "25%        1.000000  \n",
       "50%        1.000000  \n",
       "75%        1.000000  \n",
       "max       11.068476  \n",
       "\n",
       "[8 rows x 101 columns]"
      ]
     },
     "execution_count": 22,
     "metadata": {},
     "output_type": "execute_result"
    }
   ],
   "source": [
    "gss.describe()"
   ]
  },
  {
   "cell_type": "markdown",
   "metadata": {},
   "source": [
    "Let's explore the relationship between income and education, starting with simple regression:"
   ]
  },
  {
   "cell_type": "code",
   "execution_count": 23,
   "metadata": {},
   "outputs": [
    {
     "data": {
      "text/plain": [
       "<statsmodels.regression.linear_model.OLS at 0x7f4dfaf3e550>"
      ]
     },
     "execution_count": 23,
     "metadata": {},
     "output_type": "execute_result"
    }
   ],
   "source": [
    "model = smf.ols('realinc ~ educ', data=gss)\n",
    "model"
   ]
  },
  {
   "cell_type": "code",
   "execution_count": 24,
   "metadata": {},
   "outputs": [
    {
     "data": {
      "text/plain": [
       "Intercept   -11539.147837\n",
       "educ          3586.523659\n",
       "dtype: float64"
      ]
     },
     "execution_count": 24,
     "metadata": {},
     "output_type": "execute_result"
    }
   ],
   "source": [
    "results = model.fit()\n",
    "results.params"
   ]
  },
  {
   "cell_type": "markdown",
   "metadata": {},
   "source": [
    "It looks like people with more education have higher incomes, about $3586 per additional year of education.\n",
    "\n",
    "Now that we are using StatsModels, it is easy to add explanatory variables.  For example, we can add `age` to the model like this."
   ]
  },
  {
   "cell_type": "code",
   "execution_count": 25,
   "metadata": {},
   "outputs": [
    {
     "data": {
      "text/plain": [
       "Intercept   -16117.275684\n",
       "educ          3655.166921\n",
       "age             83.731804\n",
       "dtype: float64"
      ]
     },
     "execution_count": 25,
     "metadata": {},
     "output_type": "execute_result"
    }
   ],
   "source": [
    "model = smf.ols('realinc ~ educ + age', data=gss)\n",
    "results = model.fit()\n",
    "results.params"
   ]
  },
  {
   "cell_type": "markdown",
   "metadata": {},
   "source": [
    "It looks like the effect of `age` is small, and adding it to the model has only a small effect on the estimated parameter for education.\n",
    "\n",
    "But it's possible we are getting fooled by a nonlinear relationship.  To see what the age effect looks like, I'll group by age and plot the mean income in each age group."
   ]
  },
  {
   "cell_type": "code",
   "execution_count": 26,
   "metadata": {},
   "outputs": [
    {
     "data": {
      "text/plain": [
       "<pandas.core.groupby.DataFrameGroupBy object at 0x7f4dfaf49518>"
      ]
     },
     "execution_count": 26,
     "metadata": {},
     "output_type": "execute_result"
    }
   ],
   "source": [
    "grouped = gss.groupby('age')\n",
    "grouped"
   ]
  },
  {
   "cell_type": "code",
   "execution_count": 27,
   "metadata": {},
   "outputs": [
    {
     "data": {
      "image/png": "[encoded data removed]",
      "text/plain": [
       "<Figure size 432x288 with 1 Axes>"
      ]
     },
     "metadata": {
      "needs_background": "light"
     },
     "output_type": "display_data"
    }
   ],
   "source": [
    "mean_income_by_age = grouped['realinc'].mean()\n",
    "\n",
    "plt.plot(mean_income_by_age, 'o', alpha=0.5)\n",
    "plt.xlabel('Age (years)')\n",
    "plt.ylabel('Income (1986 $)');"
   ]
  },
  {
   "cell_type": "markdown",
   "metadata": {},
   "source": [
    "Yeah, that looks like a nonlinear effect.\n",
    "\n",
    "We can model it by adding a quadratic term to the model."
   ]
  },
  {
   "cell_type": "code",
   "execution_count": 28,
   "metadata": {},
   "outputs": [],
   "source": [
    "gss['age2'] = gss['age']**2"
   ]
  },
  {
   "cell_type": "code",
   "execution_count": 29,
   "metadata": {},
   "outputs": [
    {
     "data": {
      "text/html": [
       "<table class=\"simpletable\">\n",
       "<caption>OLS Regression Results</caption>\n",
       "<tr>\n",
       "  <th>Dep. Variable:</th>         <td>realinc</td>     <th>  R-squared:         </th>  <td>   0.161</td>  \n",
       "</tr>\n",
       "<tr>\n",
       "  <th>Model:</th>                   <td>OLS</td>       <th>  Adj. R-squared:    </th>  <td>   0.161</td>  \n",
       "</tr>\n",
       "<tr>\n",
       "  <th>Method:</th>             <td>Least Squares</td>  <th>  F-statistic:       </th>  <td>   3533.</td>  \n",
       "</tr>\n",
       "<tr>\n",
       "  <th>Date:</th>             <td>Thu, 04 Apr 2019</td> <th>  Prob (F-statistic):</th>   <td>  0.00</td>   \n",
       "</tr>\n",
       "<tr>\n",
       "  <th>Time:</th>                 <td>09:03:02</td>     <th>  Log-Likelihood:    </th> <td>-6.4543e+05</td>\n",
       "</tr>\n",
       "<tr>\n",
       "  <th>No. Observations:</th>      <td> 55345</td>      <th>  AIC:               </th>  <td>1.291e+06</td> \n",
       "</tr>\n",
       "<tr>\n",
       "  <th>Df Residuals:</th>          <td> 55341</td>      <th>  BIC:               </th>  <td>1.291e+06</td> \n",
       "</tr>\n",
       "<tr>\n",
       "  <th>Df Model:</th>              <td>     3</td>      <th>                     </th>      <td> </td>     \n",
       "</tr>\n",
       "<tr>\n",
       "  <th>Covariance Type:</th>      <td>nonrobust</td>    <th>                     </th>      <td> </td>     \n",
       "</tr>\n",
       "</table>\n",
       "<table class=\"simpletable\">\n",
       "<tr>\n",
       "      <td></td>         <th>coef</th>     <th>std err</th>      <th>t</th>      <th>P>|t|</th>  <th>[0.025</th>    <th>0.975]</th>  \n",
       "</tr>\n",
       "<tr>\n",
       "  <th>Intercept</th> <td>-4.806e+04</td> <td>  985.324</td> <td>  -48.775</td> <td> 0.000</td> <td>   -5e+04</td> <td>-4.61e+04</td>\n",
       "</tr>\n",
       "<tr>\n",
       "  <th>educ</th>      <td> 3442.4472</td> <td>   39.392</td> <td>   87.389</td> <td> 0.000</td> <td> 3365.238</td> <td> 3519.656</td>\n",
       "</tr>\n",
       "<tr>\n",
       "  <th>age</th>       <td> 1748.2326</td> <td>   39.416</td> <td>   44.353</td> <td> 0.000</td> <td> 1670.976</td> <td> 1825.489</td>\n",
       "</tr>\n",
       "<tr>\n",
       "  <th>age2</th>      <td>  -17.4376</td> <td>    0.406</td> <td>  -42.965</td> <td> 0.000</td> <td>  -18.233</td> <td>  -16.642</td>\n",
       "</tr>\n",
       "</table>\n",
       "<table class=\"simpletable\">\n",
       "<tr>\n",
       "  <th>Omnibus:</th>       <td>17634.223</td> <th>  Durbin-Watson:     </th> <td>   1.976</td> \n",
       "</tr>\n",
       "<tr>\n",
       "  <th>Prob(Omnibus):</th>  <td> 0.000</td>   <th>  Jarque-Bera (JB):  </th> <td>51941.449</td>\n",
       "</tr>\n",
       "<tr>\n",
       "  <th>Skew:</th>           <td> 1.684</td>   <th>  Prob(JB):          </th> <td>    0.00</td> \n",
       "</tr>\n",
       "<tr>\n",
       "  <th>Kurtosis:</th>       <td> 6.344</td>   <th>  Cond. No.          </th> <td>2.27e+04</td> \n",
       "</tr>\n",
       "</table>"
      ],
      "text/plain": [
       "<class 'statsmodels.iolib.summary.Summary'>\n",
       "\"\"\"\n",
       "                            OLS Regression Results                            \n",
       "==============================================================================\n",
       "Dep. Variable:                realinc   R-squared:                       0.161\n",
       "Model:                            OLS   Adj. R-squared:                  0.161\n",
       "Method:                 Least Squares   F-statistic:                     3533.\n",
       "Date:                Thu, 04 Apr 2019   Prob (F-statistic):               0.00\n",
       "Time:                        09:03:02   Log-Likelihood:            -6.4543e+05\n",
       "No. Observations:               55345   AIC:                         1.291e+06\n",
       "Df Residuals:                   55341   BIC:                         1.291e+06\n",
       "Df Model:                           3                                         \n",
       "Covariance Type:            nonrobust                                         \n",
       "==============================================================================\n",
       "                 coef    std err          t      P>|t|      [0.025      0.975]\n",
       "------------------------------------------------------------------------------\n",
       "Intercept  -4.806e+04    985.324    -48.775      0.000      -5e+04   -4.61e+04\n",
       "educ        3442.4472     39.392     87.389      0.000    3365.238    3519.656\n",
       "age         1748.2326     39.416     44.353      0.000    1670.976    1825.489\n",
       "age2         -17.4376      0.406    -42.965      0.000     -18.233     -16.642\n",
       "==============================================================================\n",
       "Omnibus:                    17634.223   Durbin-Watson:                   1.976\n",
       "Prob(Omnibus):                  0.000   Jarque-Bera (JB):            51941.449\n",
       "Skew:                           1.684   Prob(JB):                         0.00\n",
       "Kurtosis:                       6.344   Cond. No.                     2.27e+04\n",
       "==============================================================================\n",
       "\n",
       "Warnings:\n",
       "[1] Standard Errors assume that the covariance matrix of the errors is correctly specified.\n",
       "[2] The condition number is large, 2.27e+04. This might indicate that there are\n",
       "strong multicollinearity or other numerical problems.\n",
       "\"\"\""
      ]
     },
     "execution_count": 29,
     "metadata": {},
     "output_type": "execute_result"
    }
   ],
   "source": [
    "model = smf.ols('realinc ~ educ + age + age2', data=gss)\n",
    "results = model.fit()\n",
    "results.summary()"
   ]
  },
  {
   "cell_type": "markdown",
   "metadata": {},
   "source": [
    "Now the coefficient associated with `age` is substantially larger.  And the coefficient of the quadratic term is negative, which is  consistent with the observation that the relationship has downward curvature."
   ]
  },
  {
   "cell_type": "markdown",
   "metadata": {},
   "source": [
    "**Exercise:** To see what the relationship between income and education looks like, group the dataset by `educ` and plot mean income at each education level."
   ]
  },
  {
   "cell_type": "code",
   "execution_count": 30,
   "metadata": {},
   "outputs": [
    {
     "data": {
      "image/png": "[encoded data removed]",
      "text/plain": [
       "<Figure size 432x288 with 1 Axes>"
      ]
     },
     "metadata": {
      "needs_background": "light"
     },
     "output_type": "display_data"
    }
   ],
   "source": [
    "grouped = gss.groupby('educ')\n",
    "mean_income_by_educ = grouped['realinc'].mean()\n",
    "\n",
    "plt.plot(mean_income_by_educ, 'o', alpha=0.5)\n",
    "plt.xlabel('Education (years))')\n",
    "plt.ylabel('Income (1986 $)');"
   ]
  },
  {
   "cell_type": "markdown",
   "metadata": {},
   "source": [
    "**Exercise:** Maybe the relationship with education is nonlinear, too.  Add a quadratic term for `educ` to the model and summarize the results."
   ]
  },
  {
   "cell_type": "code",
   "execution_count": 31,
   "metadata": {},
   "outputs": [],
   "source": [
    "gss['educ2'] = gss['educ']**2"
   ]
  },
  {
   "cell_type": "code",
   "execution_count": 32,
   "metadata": {},
   "outputs": [
    {
     "data": {
      "text/html": [
       "<table class=\"simpletable\">\n",
       "<caption>OLS Regression Results</caption>\n",
       "<tr>\n",
       "  <th>Dep. Variable:</th>         <td>realinc</td>     <th>  R-squared:         </th>  <td>   0.168</td>  \n",
       "</tr>\n",
       "<tr>\n",
       "  <th>Model:</th>                   <td>OLS</td>       <th>  Adj. R-squared:    </th>  <td>   0.168</td>  \n",
       "</tr>\n",
       "<tr>\n",
       "  <th>Method:</th>             <td>Least Squares</td>  <th>  F-statistic:       </th>  <td>   2792.</td>  \n",
       "</tr>\n",
       "<tr>\n",
       "  <th>Date:</th>             <td>Thu, 04 Apr 2019</td> <th>  Prob (F-statistic):</th>   <td>  0.00</td>   \n",
       "</tr>\n",
       "<tr>\n",
       "  <th>Time:</th>                 <td>09:03:02</td>     <th>  Log-Likelihood:    </th> <td>-6.4520e+05</td>\n",
       "</tr>\n",
       "<tr>\n",
       "  <th>No. Observations:</th>      <td> 55345</td>      <th>  AIC:               </th>  <td>1.290e+06</td> \n",
       "</tr>\n",
       "<tr>\n",
       "  <th>Df Residuals:</th>          <td> 55340</td>      <th>  BIC:               </th>  <td>1.290e+06</td> \n",
       "</tr>\n",
       "<tr>\n",
       "  <th>Df Model:</th>              <td>     4</td>      <th>                     </th>      <td> </td>     \n",
       "</tr>\n",
       "<tr>\n",
       "  <th>Covariance Type:</th>      <td>nonrobust</td>    <th>                     </th>      <td> </td>     \n",
       "</tr>\n",
       "</table>\n",
       "<table class=\"simpletable\">\n",
       "<tr>\n",
       "      <td></td>         <th>coef</th>     <th>std err</th>      <th>t</th>      <th>P>|t|</th>  <th>[0.025</th>    <th>0.975]</th>  \n",
       "</tr>\n",
       "<tr>\n",
       "  <th>Intercept</th> <td>-2.324e+04</td> <td> 1501.499</td> <td>  -15.479</td> <td> 0.000</td> <td>-2.62e+04</td> <td>-2.03e+04</td>\n",
       "</tr>\n",
       "<tr>\n",
       "  <th>educ</th>      <td> -528.3094</td> <td>  186.045</td> <td>   -2.840</td> <td> 0.005</td> <td> -892.958</td> <td> -163.661</td>\n",
       "</tr>\n",
       "<tr>\n",
       "  <th>educ2</th>     <td>  159.9667</td> <td>    7.327</td> <td>   21.834</td> <td> 0.000</td> <td>  145.607</td> <td>  174.327</td>\n",
       "</tr>\n",
       "<tr>\n",
       "  <th>age</th>       <td> 1696.7171</td> <td>   39.319</td> <td>   43.153</td> <td> 0.000</td> <td> 1619.652</td> <td> 1773.782</td>\n",
       "</tr>\n",
       "<tr>\n",
       "  <th>age2</th>      <td>  -17.1970</td> <td>    0.404</td> <td>  -42.538</td> <td> 0.000</td> <td>  -17.989</td> <td>  -16.405</td>\n",
       "</tr>\n",
       "</table>\n",
       "<table class=\"simpletable\">\n",
       "<tr>\n",
       "  <th>Omnibus:</th>       <td>17422.378</td> <th>  Durbin-Watson:     </th> <td>   1.978</td> \n",
       "</tr>\n",
       "<tr>\n",
       "  <th>Prob(Omnibus):</th>  <td> 0.000</td>   <th>  Jarque-Bera (JB):  </th> <td>51721.770</td>\n",
       "</tr>\n",
       "<tr>\n",
       "  <th>Skew:</th>           <td> 1.657</td>   <th>  Prob(JB):          </th> <td>    0.00</td> \n",
       "</tr>\n",
       "<tr>\n",
       "  <th>Kurtosis:</th>       <td> 6.382</td>   <th>  Cond. No.          </th> <td>3.50e+04</td> \n",
       "</tr>\n",
       "</table>"
      ],
      "text/plain": [
       "<class 'statsmodels.iolib.summary.Summary'>\n",
       "\"\"\"\n",
       "                            OLS Regression Results                            \n",
       "==============================================================================\n",
       "Dep. Variable:                realinc   R-squared:                       0.168\n",
       "Model:                            OLS   Adj. R-squared:                  0.168\n",
       "Method:                 Least Squares   F-statistic:                     2792.\n",
       "Date:                Thu, 04 Apr 2019   Prob (F-statistic):               0.00\n",
       "Time:                        09:03:02   Log-Likelihood:            -6.4520e+05\n",
       "No. Observations:               55345   AIC:                         1.290e+06\n",
       "Df Residuals:                   55340   BIC:                         1.290e+06\n",
       "Df Model:                           4                                         \n",
       "Covariance Type:            nonrobust                                         \n",
       "==============================================================================\n",
       "                 coef    std err          t      P>|t|      [0.025      0.975]\n",
       "------------------------------------------------------------------------------\n",
       "Intercept  -2.324e+04   1501.499    -15.479      0.000   -2.62e+04   -2.03e+04\n",
       "educ        -528.3094    186.045     -2.840      0.005    -892.958    -163.661\n",
       "educ2        159.9667      7.327     21.834      0.000     145.607     174.327\n",
       "age         1696.7171     39.319     43.153      0.000    1619.652    1773.782\n",
       "age2         -17.1970      0.404    -42.538      0.000     -17.989     -16.405\n",
       "==============================================================================\n",
       "Omnibus:                    17422.378   Durbin-Watson:                   1.978\n",
       "Prob(Omnibus):                  0.000   Jarque-Bera (JB):            51721.770\n",
       "Skew:                           1.657   Prob(JB):                         0.00\n",
       "Kurtosis:                       6.382   Cond. No.                     3.50e+04\n",
       "==============================================================================\n",
       "\n",
       "Warnings:\n",
       "[1] Standard Errors assume that the covariance matrix of the errors is correctly specified.\n",
       "[2] The condition number is large, 3.5e+04. This might indicate that there are\n",
       "strong multicollinearity or other numerical problems.\n",
       "\"\"\""
      ]
     },
     "execution_count": 32,
     "metadata": {},
     "output_type": "execute_result"
    }
   ],
   "source": [
    "model = smf.ols('realinc ~ educ + educ2 + age + age2', data=gss)\n",
    "results = model.fit()\n",
    "results.summary()"
   ]
  },
  {
   "cell_type": "markdown",
   "metadata": {},
   "source": [
    "### Making predictions"
   ]
  },
  {
   "cell_type": "markdown",
   "metadata": {},
   "source": [
    "The parameters of a non-linear model can be hard to interpret, but maybe we don't have to.  Sometimes it is easier to judge a model by its predictions rather than its parameters.\n",
    "\n",
    "The results object provides a `predict` method that takes a `DataFrame` and uses the model to generate a prediction for each row.  Here's how we can create the `DataFrame`:"
   ]
  },
  {
   "cell_type": "code",
   "execution_count": 33,
   "metadata": {},
   "outputs": [],
   "source": [
    "df = pd.DataFrame()\n",
    "df['age'] = np.linspace(18, 85)\n",
    "df['age2'] = df['age']**2"
   ]
  },
  {
   "cell_type": "markdown",
   "metadata": {},
   "source": [
    "`age` contains equally-spaced points from 18 to 85, and `age2` contains those values squared.\n",
    "\n",
    "Now we can set `educ` to 12 years of education and generate predictions:"
   ]
  },
  {
   "cell_type": "code",
   "execution_count": 34,
   "metadata": {},
   "outputs": [
    {
     "data": {
      "image/png": "[encoded data removed]",
      "text/plain": [
       "<Figure size 432x288 with 1 Axes>"
      ]
     },
     "metadata": {
      "needs_background": "light"
     },
     "output_type": "display_data"
    }
   ],
   "source": [
    "plt.plot(mean_income_by_age, 'o', alpha=0.5)\n",
    "\n",
    "df['educ'] = 12\n",
    "df['educ2'] = df['educ']**2\n",
    "pred12 = results.predict(df)\n",
    "plt.plot(df['age'], pred12, label='High school')\n",
    "\n",
    "plt.xlabel('Age (years)')\n",
    "plt.ylabel('Income (1986 $)')\n",
    "plt.legend();"
   ]
  },
  {
   "cell_type": "markdown",
   "metadata": {},
   "source": [
    "This plot shows the structure of the model, which is a parabola.  We also plot the data as an average in each age group.\n",
    "\n",
    "**Exercise:**  Generate the same plot, but show predictions for three levels of education: 12, 14, and 16 years."
   ]
  },
  {
   "cell_type": "code",
   "execution_count": 35,
   "metadata": {},
   "outputs": [
    {
     "data": {
      "image/png": "[encoded data removed]",
      "text/plain": [
       "<Figure size 432x288 with 1 Axes>"
      ]
     },
     "metadata": {
      "needs_background": "light"
     },
     "output_type": "display_data"
    }
   ],
   "source": [
    "plt.plot(mean_income_by_age, 'o', alpha=0.5)\n",
    "\n",
    "df['educ'] = 12\n",
    "df['educ2'] = df['educ']**2\n",
    "pred12 = results.predict(df)\n",
    "plt.plot(df['age'], pred12, label='High school')\n",
    "\n",
    "df['educ'] = 14\n",
    "df['educ2'] = df['educ']**2\n",
    "pred14 = results.predict(df)\n",
    "plt.plot(df['age'], pred14, label='Associates')\n",
    "\n",
    "df['educ'] = 16\n",
    "df['educ2'] = df['educ']**2\n",
    "pred16 = results.predict(df)\n",
    "plt.plot(df['age'], pred16, label='Bachelor')\n",
    "\n",
    "plt.xlabel('Age (years)')\n",
    "plt.ylabel('Income (1986 $)')\n",
    "plt.legend();"
   ]
  },
  {
   "cell_type": "markdown",
   "metadata": {},
   "source": [
    "### Adding categorical variables\n",
    "\n",
    "In a formula string, we can use `C()` to indicate that a variable should be treated as categorical.  For example, the following model contains `sex` as a categorical variable."
   ]
  },
  {
   "cell_type": "code",
   "execution_count": 36,
   "metadata": {},
   "outputs": [
    {
     "data": {
      "text/plain": [
       "Intercept     -22369.453641\n",
       "C(sex)[T.2]    -4156.113865\n",
       "educ            -310.247419\n",
       "educ2            150.514091\n",
       "age             1703.047502\n",
       "age2             -17.238711\n",
       "dtype: float64"
      ]
     },
     "execution_count": 36,
     "metadata": {},
     "output_type": "execute_result"
    }
   ],
   "source": [
    "formula = 'realinc ~ educ + educ2 + age + age2 + C(sex)'\n",
    "results = smf.ols(formula, data=gss).fit()\n",
    "results.params"
   ]
  },
  {
   "cell_type": "markdown",
   "metadata": {},
   "source": [
    "The estimated parameter indicates that `sex=2`, which indicates women, is associated with about \\$4150 lower income, after controlling for age and education.\n",
    "\n",
    "**Exercise**: Use `groupby` to group respondents by `educ`, then plot mean `realinc` for each education level."
   ]
  },
  {
   "cell_type": "code",
   "execution_count": 37,
   "metadata": {},
   "outputs": [
    {
     "data": {
      "image/png": "[encoded data removed]",
      "text/plain": [
       "<Figure size 432x288 with 1 Axes>"
      ]
     },
     "metadata": {
      "needs_background": "light"
     },
     "output_type": "display_data"
    }
   ],
   "source": [
    "grouped = gss.groupby('educ')\n",
    "mean_income_by_educ = grouped['realinc'].mean()\n",
    "\n",
    "plt.plot(mean_income_by_educ, 'o', alpha=0.5)\n",
    "plt.xlabel('Education (years)')\n",
    "plt.ylabel('Income (1986 $)');"
   ]
  },
  {
   "cell_type": "markdown",
   "metadata": {},
   "source": [
    "**Exercise:** Make a `DataFrame` with a range of values for `educ` and constant `age=30`.  Compute `age2` and `educ2` accordingly.\n",
    "\n",
    "Use this `DataFrame` to generate predictions for each level of education, holding age constant.  Generate and plot separate predictions for men and women.\n",
    "\n",
    "Also plot the data for comparison."
   ]
  },
  {
   "cell_type": "code",
   "execution_count": 38,
   "metadata": {},
   "outputs": [
    {
     "data": {
      "image/png": "[encoded data removed]",
      "text/plain": [
       "<Figure size 432x288 with 1 Axes>"
      ]
     },
     "metadata": {
      "needs_background": "light"
     },
     "output_type": "display_data"
    }
   ],
   "source": [
    "df = pd.DataFrame()\n",
    "df['educ'] = np.linspace(9, 19)\n",
    "df['educ2'] = df['educ']**2\n",
    "\n",
    "\n",
    "plt.plot(mean_income_by_educ, 'o', alpha=0.5)\n",
    "\n",
    "df['age'] = 30\n",
    "df['age2'] = df['age']**2\n",
    "df['sex'] = 2 #women\n",
    "\n",
    "df.head()\n",
    "\n",
    "pred = results.predict(df)\n",
    "plt.plot(df['educ'], pred, label='30 year old')\n",
    "\n",
    "plt.xlabel('Educ (years)')\n",
    "plt.ylabel('Income (1986 $)')\n",
    "plt.title('Income vs Education for Women')\n",
    "plt.legend();"
   ]
  },
  {
   "cell_type": "code",
   "execution_count": 39,
   "metadata": {},
   "outputs": [
    {
     "data": {
      "image/png": "[encoded data removed]",
      "text/plain": [
       "<Figure size 432x288 with 1 Axes>"
      ]
     },
     "metadata": {
      "needs_background": "light"
     },
     "output_type": "display_data"
    }
   ],
   "source": [
    "df = pd.DataFrame()\n",
    "df['educ'] = np.linspace(9, 19)\n",
    "df['educ2'] = df['educ']**2\n",
    "\n",
    "\n",
    "plt.plot(mean_income_by_educ, 'o', alpha=0.5)\n",
    "\n",
    "df['age'] = 30\n",
    "df['age2'] = df['age']**2\n",
    "df['sex'] = 1 #men\n",
    "\n",
    "df.head()\n",
    "\n",
    "pred = results.predict(df)\n",
    "plt.plot(df['educ'], pred, label='30 year old')\n",
    "\n",
    "plt.xlabel('Educ (years)')\n",
    "plt.ylabel('Income (1986 $)')\n",
    "plt.title('Income vs Education for Men')\n",
    "\n",
    "plt.legend();"
   ]
  },
  {
   "cell_type": "markdown",
   "metadata": {},
   "source": [
    "### Logistic regression\n",
    "\n",
    "Let's use logistic regression to see what factors are associated with support for gun control.  The variable we'll use is `gunlaw`, which represents the response to this question: \"Would you favor or oppose a law which would require a person to obtain a police permit before he or she could buy a gun?\"\n",
    "\n",
    "Here are the values."
   ]
  },
  {
   "cell_type": "code",
   "execution_count": 40,
   "metadata": {},
   "outputs": [
    {
     "data": {
      "text/plain": [
       "1    30918\n",
       "0    21133\n",
       "2     9632\n",
       "8      668\n",
       "9      115\n",
       "Name: gunlaw, dtype: int64"
      ]
     },
     "execution_count": 40,
     "metadata": {},
     "output_type": "execute_result"
    }
   ],
   "source": [
    "gss['gunlaw'].value_counts()"
   ]
  },
  {
   "cell_type": "markdown",
   "metadata": {},
   "source": [
    "1 means yes, 2 means no, 0 means the question wasn't asked; 8 and 9 mean the respondent doesn't know or refused to answer.\n",
    "\n",
    "First I'll replace 0, 8, and 9 with NaN"
   ]
  },
  {
   "cell_type": "code",
   "execution_count": 41,
   "metadata": {},
   "outputs": [],
   "source": [
    "gss['gunlaw'].replace([0, 8, 9], np.nan, inplace=True)"
   ]
  },
  {
   "cell_type": "markdown",
   "metadata": {},
   "source": [
    "In order to put `gunlaw` on the left side of a regression, we have to recode it so 0 means no and 1 means yes. "
   ]
  },
  {
   "cell_type": "code",
   "execution_count": 42,
   "metadata": {},
   "outputs": [],
   "source": [
    "gss['gunlaw'].replace(2, 0, inplace=True)"
   ]
  },
  {
   "cell_type": "markdown",
   "metadata": {},
   "source": [
    "Here's what it looks like after recoding."
   ]
  },
  {
   "cell_type": "code",
   "execution_count": 43,
   "metadata": {},
   "outputs": [
    {
     "data": {
      "text/plain": [
       "1.0    30918\n",
       "0.0     9632\n",
       "Name: gunlaw, dtype: int64"
      ]
     },
     "execution_count": 43,
     "metadata": {},
     "output_type": "execute_result"
    }
   ],
   "source": [
    "gss['gunlaw'].value_counts()"
   ]
  },
  {
   "cell_type": "markdown",
   "metadata": {},
   "source": [
    "Now we can run a logistic regression model"
   ]
  },
  {
   "cell_type": "code",
   "execution_count": 44,
   "metadata": {},
   "outputs": [
    {
     "name": "stdout",
     "output_type": "stream",
     "text": [
      "Optimization terminated successfully.\n",
      "         Current function value: 0.533674\n",
      "         Iterations 6\n"
     ]
    }
   ],
   "source": [
    "results = smf.logit('gunlaw ~ age + age2 + educ + educ2 + C(sex)', data=gss).fit()"
   ]
  },
  {
   "cell_type": "markdown",
   "metadata": {},
   "source": [
    "Here are the results."
   ]
  },
  {
   "cell_type": "code",
   "execution_count": 45,
   "metadata": {},
   "outputs": [
    {
     "data": {
      "text/html": [
       "<table class=\"simpletable\">\n",
       "<caption>Logit Regression Results</caption>\n",
       "<tr>\n",
       "  <th>Dep. Variable:</th>      <td>gunlaw</td>      <th>  No. Observations:  </th>   <td> 40355</td>  \n",
       "</tr>\n",
       "<tr>\n",
       "  <th>Model:</th>               <td>Logit</td>      <th>  Df Residuals:      </th>   <td> 40349</td>  \n",
       "</tr>\n",
       "<tr>\n",
       "  <th>Method:</th>               <td>MLE</td>       <th>  Df Model:          </th>   <td>     5</td>  \n",
       "</tr>\n",
       "<tr>\n",
       "  <th>Date:</th>          <td>Thu, 04 Apr 2019</td> <th>  Pseudo R-squ.:     </th>   <td>0.02604</td> \n",
       "</tr>\n",
       "<tr>\n",
       "  <th>Time:</th>              <td>09:03:03</td>     <th>  Log-Likelihood:    </th>  <td> -21536.</td> \n",
       "</tr>\n",
       "<tr>\n",
       "  <th>converged:</th>           <td>True</td>       <th>  LL-Null:           </th>  <td> -22112.</td> \n",
       "</tr>\n",
       "<tr>\n",
       "  <th> </th>                      <td> </td>        <th>  LLR p-value:       </th> <td>9.637e-247</td>\n",
       "</tr>\n",
       "</table>\n",
       "<table class=\"simpletable\">\n",
       "<tr>\n",
       "       <td></td>          <th>coef</th>     <th>std err</th>      <th>z</th>      <th>P>|z|</th>  <th>[0.025</th>    <th>0.975]</th>  \n",
       "</tr>\n",
       "<tr>\n",
       "  <th>Intercept</th>   <td>    1.6539</td> <td>    0.150</td> <td>   11.046</td> <td> 0.000</td> <td>    1.360</td> <td>    1.947</td>\n",
       "</tr>\n",
       "<tr>\n",
       "  <th>C(sex)[T.2]</th> <td>    0.7572</td> <td>    0.024</td> <td>   31.535</td> <td> 0.000</td> <td>    0.710</td> <td>    0.804</td>\n",
       "</tr>\n",
       "<tr>\n",
       "  <th>age</th>         <td>   -0.0188</td> <td>    0.004</td> <td>   -4.915</td> <td> 0.000</td> <td>   -0.026</td> <td>   -0.011</td>\n",
       "</tr>\n",
       "<tr>\n",
       "  <th>age2</th>        <td>    0.0002</td> <td> 3.95e-05</td> <td>    4.791</td> <td> 0.000</td> <td>    0.000</td> <td>    0.000</td>\n",
       "</tr>\n",
       "<tr>\n",
       "  <th>educ</th>        <td>   -0.1244</td> <td>    0.019</td> <td>   -6.500</td> <td> 0.000</td> <td>   -0.162</td> <td>   -0.087</td>\n",
       "</tr>\n",
       "<tr>\n",
       "  <th>educ2</th>       <td>    0.0067</td> <td>    0.001</td> <td>    8.649</td> <td> 0.000</td> <td>    0.005</td> <td>    0.008</td>\n",
       "</tr>\n",
       "</table>"
      ],
      "text/plain": [
       "<class 'statsmodels.iolib.summary.Summary'>\n",
       "\"\"\"\n",
       "                           Logit Regression Results                           \n",
       "==============================================================================\n",
       "Dep. Variable:                 gunlaw   No. Observations:                40355\n",
       "Model:                          Logit   Df Residuals:                    40349\n",
       "Method:                           MLE   Df Model:                            5\n",
       "Date:                Thu, 04 Apr 2019   Pseudo R-squ.:                 0.02604\n",
       "Time:                        09:03:03   Log-Likelihood:                -21536.\n",
       "converged:                       True   LL-Null:                       -22112.\n",
       "                                        LLR p-value:                9.637e-247\n",
       "===============================================================================\n",
       "                  coef    std err          z      P>|z|      [0.025      0.975]\n",
       "-------------------------------------------------------------------------------\n",
       "Intercept       1.6539      0.150     11.046      0.000       1.360       1.947\n",
       "C(sex)[T.2]     0.7572      0.024     31.535      0.000       0.710       0.804\n",
       "age            -0.0188      0.004     -4.915      0.000      -0.026      -0.011\n",
       "age2            0.0002   3.95e-05      4.791      0.000       0.000       0.000\n",
       "educ           -0.1244      0.019     -6.500      0.000      -0.162      -0.087\n",
       "educ2           0.0067      0.001      8.649      0.000       0.005       0.008\n",
       "===============================================================================\n",
       "\"\"\""
      ]
     },
     "execution_count": 45,
     "metadata": {},
     "output_type": "execute_result"
    }
   ],
   "source": [
    "results.summary()"
   ]
  },
  {
   "cell_type": "markdown",
   "metadata": {},
   "source": [
    "Here are the parameters.  The coefficient of `sex=2` is positive, which indicates that women are more likely to support gun control, at least for this question."
   ]
  },
  {
   "cell_type": "code",
   "execution_count": 46,
   "metadata": {},
   "outputs": [
    {
     "data": {
      "text/plain": [
       "Intercept      1.653862\n",
       "C(sex)[T.2]    0.757249\n",
       "age           -0.018849\n",
       "age2           0.000189\n",
       "educ          -0.124373\n",
       "educ2          0.006653\n",
       "dtype: float64"
      ]
     },
     "execution_count": 46,
     "metadata": {},
     "output_type": "execute_result"
    }
   ],
   "source": [
    "results.params"
   ]
  },
  {
   "cell_type": "markdown",
   "metadata": {},
   "source": [
    "The other parameters are not easy to interpret, but again we can use the regression results to generate predictions, which makes it possible to visualize the model.\n",
    "\n",
    "I'll make a `DataFrame` with a range of ages and a fixed level of education, and generate predictions for men and women."
   ]
  },
  {
   "cell_type": "code",
   "execution_count": 47,
   "metadata": {},
   "outputs": [
    {
     "data": {
      "image/png": "[encoded data removed]",
      "text/plain": [
       "<Figure size 432x288 with 1 Axes>"
      ]
     },
     "metadata": {
      "needs_background": "light"
     },
     "output_type": "display_data"
    }
   ],
   "source": [
    "grouped = gss.groupby('age')\n",
    "favor_by_age = grouped['gunlaw'].mean()\n",
    "plt.plot(favor_by_age, 'o', alpha=0.5)\n",
    "\n",
    "df = pd.DataFrame()\n",
    "df['age'] = np.linspace(18, 89)\n",
    "df['educ'] = 12\n",
    "\n",
    "df['age2'] = df['age']**2\n",
    "df['educ2'] = df['educ']**2\n",
    "\n",
    "df['sex'] = 1\n",
    "pred = results.predict(df)\n",
    "plt.plot(df['age'], pred, label='Male')\n",
    "\n",
    "df['sex'] = 2\n",
    "pred = results.predict(df)\n",
    "plt.plot(df['age'], pred, label='Female')\n",
    "\n",
    "plt.xlabel('Age')\n",
    "plt.ylabel('Probability of favoring gun law')\n",
    "plt.legend();"
   ]
  },
  {
   "cell_type": "markdown",
   "metadata": {},
   "source": [
    "Over the range of ages, women are more likely to support gun control than men, by about 15 percentage points.\n",
    "\n",
    "**Exercise:** Generate a similar plot as a function of education, with constant `age=40`."
   ]
  },
  {
   "cell_type": "code",
   "execution_count": 51,
   "metadata": {},
   "outputs": [
    {
     "data": {
      "image/png": "[encoded data removed]",
      "text/plain": [
       "<Figure size 432x288 with 1 Axes>"
      ]
     },
     "metadata": {
      "needs_background": "light"
     },
     "output_type": "display_data"
    }
   ],
   "source": [
    "grouped = gss.groupby('educ')\n",
    "favor_by_educ = grouped['gunlaw'].mean()\n",
    "plt.plot(favor_by_educ, 'o', alpha=0.5)\n",
    "\n",
    "df = pd.DataFrame()\n",
    "df['educ'] = np.linspace(9, 19)\n",
    "df['age'] = 40\n",
    "\n",
    "df['educ2'] = df['educ']**2\n",
    "df['age2'] = df['age']**2\n",
    "\n",
    "df['sex'] = 1\n",
    "pred = results.predict(df)\n",
    "plt.plot(df['educ'], pred, label='Male')\n",
    "\n",
    "df['sex'] = 2\n",
    "pred = results.predict(df)\n",
    "plt.plot(df['educ'], pred, label='Female')\n",
    "\n",
    "plt.xlabel('Education (Years)')\n",
    "plt.ylabel('Probability of favoring gun law')\n",
    "plt.legend();"
   ]
  },
  {
   "cell_type": "markdown",
   "metadata": {},
   "source": [
    "**Exercise:** Use the variable `grass` to explore support for legalizing marijuana.  This variable record the response to this question: \"Do you think the use of marijuana should be made legal or not?\"\n",
    "\n",
    "1. Recode `grass` for use with logistic regression.\n",
    "\n",
    "2. Run a regression model with age, education, and sex as explanatory variables.\n",
    "\n",
    "3. Use the model to generate predictions for a range of ages, with education held constant, and plot the predictions for men and women.  Also plot the mean level of support in each age group.\n",
    "\n",
    "4. Use the model to generate predictions for a range of education levels, with age held constant, and plot the predictions for men and women.  Also plot the mean level of support at each education level.\n",
    "\n",
    "Note: This last graph might not look like a parabola.  Why not?"
   ]
  },
  {
   "cell_type": "code",
   "execution_count": 52,
   "metadata": {},
   "outputs": [
    {
     "data": {
      "text/plain": [
       "2    25195\n",
       "0    24398\n",
       "1    11027\n",
       "8     1733\n",
       "9      113\n",
       "Name: grass, dtype: int64"
      ]
     },
     "execution_count": 52,
     "metadata": {},
     "output_type": "execute_result"
    }
   ],
   "source": [
    "gss['grass'].value_counts()"
   ]
  },
  {
   "cell_type": "markdown",
   "metadata": {},
   "source": [
    "Question: Do you think the use of marijuana should be made legal or not?\n",
    "\n",
    "1   Legal, \n",
    "2\tNot legal, \n",
    "8\tDon't know, \n",
    "9\tNo answer, \n",
    "0\tNot applicable, "
   ]
  },
  {
   "cell_type": "code",
   "execution_count": 53,
   "metadata": {},
   "outputs": [
    {
     "data": {
      "text/plain": [
       "0.0    25195\n",
       "1.0    11027\n",
       "Name: grass, dtype: int64"
      ]
     },
     "execution_count": 53,
     "metadata": {},
     "output_type": "execute_result"
    }
   ],
   "source": [
    "gss['grass'].replace([0, 8, 9], np.nan, inplace=True)\n",
    "gss['grass'].replace(2, 0, inplace=True)\n",
    "gss['grass'].value_counts()"
   ]
  },
  {
   "cell_type": "code",
   "execution_count": 54,
   "metadata": {},
   "outputs": [
    {
     "name": "stdout",
     "output_type": "stream",
     "text": [
      "Optimization terminated successfully.\n",
      "         Current function value: 0.588510\n",
      "         Iterations 6\n"
     ]
    },
    {
     "data": {
      "text/html": [
       "<table class=\"simpletable\">\n",
       "<caption>Logit Regression Results</caption>\n",
       "<tr>\n",
       "  <th>Dep. Variable:</th>       <td>grass</td>      <th>  No. Observations:  </th>  <td> 36052</td> \n",
       "</tr>\n",
       "<tr>\n",
       "  <th>Model:</th>               <td>Logit</td>      <th>  Df Residuals:      </th>  <td> 36046</td> \n",
       "</tr>\n",
       "<tr>\n",
       "  <th>Method:</th>               <td>MLE</td>       <th>  Df Model:          </th>  <td>     5</td> \n",
       "</tr>\n",
       "<tr>\n",
       "  <th>Date:</th>          <td>Thu, 04 Apr 2019</td> <th>  Pseudo R-squ.:     </th>  <td>0.04243</td>\n",
       "</tr>\n",
       "<tr>\n",
       "  <th>Time:</th>              <td>09:05:15</td>     <th>  Log-Likelihood:    </th> <td> -21217.</td>\n",
       "</tr>\n",
       "<tr>\n",
       "  <th>converged:</th>           <td>True</td>       <th>  LL-Null:           </th> <td> -22157.</td>\n",
       "</tr>\n",
       "<tr>\n",
       "  <th> </th>                      <td> </td>        <th>  LLR p-value:       </th>  <td> 0.000</td> \n",
       "</tr>\n",
       "</table>\n",
       "<table class=\"simpletable\">\n",
       "<tr>\n",
       "       <td></td>          <th>coef</th>     <th>std err</th>      <th>z</th>      <th>P>|z|</th>  <th>[0.025</th>    <th>0.975]</th>  \n",
       "</tr>\n",
       "<tr>\n",
       "  <th>Intercept</th>   <td>   -1.6852</td> <td>    0.187</td> <td>   -8.996</td> <td> 0.000</td> <td>   -2.052</td> <td>   -1.318</td>\n",
       "</tr>\n",
       "<tr>\n",
       "  <th>C(sex)[T.2]</th> <td>   -0.3846</td> <td>    0.024</td> <td>  -16.347</td> <td> 0.000</td> <td>   -0.431</td> <td>   -0.338</td>\n",
       "</tr>\n",
       "<tr>\n",
       "  <th>age</th>         <td>   -0.0348</td> <td>    0.004</td> <td>   -8.934</td> <td> 0.000</td> <td>   -0.042</td> <td>   -0.027</td>\n",
       "</tr>\n",
       "<tr>\n",
       "  <th>age2</th>        <td>    0.0002</td> <td> 4.07e-05</td> <td>    4.705</td> <td> 0.000</td> <td>    0.000</td> <td>    0.000</td>\n",
       "</tr>\n",
       "<tr>\n",
       "  <th>educ</th>        <td>    0.2219</td> <td>    0.025</td> <td>    8.994</td> <td> 0.000</td> <td>    0.174</td> <td>    0.270</td>\n",
       "</tr>\n",
       "<tr>\n",
       "  <th>educ2</th>       <td>   -0.0042</td> <td>    0.001</td> <td>   -4.529</td> <td> 0.000</td> <td>   -0.006</td> <td>   -0.002</td>\n",
       "</tr>\n",
       "</table>"
      ],
      "text/plain": [
       "<class 'statsmodels.iolib.summary.Summary'>\n",
       "\"\"\"\n",
       "                           Logit Regression Results                           \n",
       "==============================================================================\n",
       "Dep. Variable:                  grass   No. Observations:                36052\n",
       "Model:                          Logit   Df Residuals:                    36046\n",
       "Method:                           MLE   Df Model:                            5\n",
       "Date:                Thu, 04 Apr 2019   Pseudo R-squ.:                 0.04243\n",
       "Time:                        09:05:15   Log-Likelihood:                -21217.\n",
       "converged:                       True   LL-Null:                       -22157.\n",
       "                                        LLR p-value:                     0.000\n",
       "===============================================================================\n",
       "                  coef    std err          z      P>|z|      [0.025      0.975]\n",
       "-------------------------------------------------------------------------------\n",
       "Intercept      -1.6852      0.187     -8.996      0.000      -2.052      -1.318\n",
       "C(sex)[T.2]    -0.3846      0.024    -16.347      0.000      -0.431      -0.338\n",
       "age            -0.0348      0.004     -8.934      0.000      -0.042      -0.027\n",
       "age2            0.0002   4.07e-05      4.705      0.000       0.000       0.000\n",
       "educ            0.2219      0.025      8.994      0.000       0.174       0.270\n",
       "educ2          -0.0042      0.001     -4.529      0.000      -0.006      -0.002\n",
       "===============================================================================\n",
       "\"\"\""
      ]
     },
     "execution_count": 54,
     "metadata": {},
     "output_type": "execute_result"
    }
   ],
   "source": [
    "results = smf.logit('grass ~ age + age2 + educ + educ2 + C(sex)', data=gss).fit()\n",
    "results.summary()"
   ]
  },
  {
   "cell_type": "code",
   "execution_count": 58,
   "metadata": {},
   "outputs": [
    {
     "data": {
      "image/png": "[encoded data removed]",
      "text/plain": [
       "<Figure size 432x288 with 1 Axes>"
      ]
     },
     "metadata": {
      "needs_background": "light"
     },
     "output_type": "display_data"
    }
   ],
   "source": [
    "grouped = gss.groupby('age')\n",
    "favor_by_age = grouped['grass'].mean()\n",
    "plt.plot(favor_by_age, 'o', alpha=0.5, label='Mean Grass')\n",
    "\n",
    "male = gss[gss['sex']==1]\n",
    "grouped = male.groupby('age')\n",
    "male_favor_by_age = grouped['grass'].mean()\n",
    "plt.plot(male_favor_by_age, 'o', alpha=0.5, label='Mean Male Grass')\n",
    "\n",
    "female = gss[gss['sex']==2]\n",
    "grouped = female.groupby('age')\n",
    "female_favor_by_age = grouped['grass'].mean()\n",
    "plt.plot(female_favor_by_age, 'o', alpha=0.5, label='Mean Female Grass')\n",
    "\n",
    "df = pd.DataFrame()\n",
    "df['age'] = np.linspace(18, 89) #range of ages\n",
    "df['educ'] = 12 #education held constant at highschool graduation\n",
    "\n",
    "df['age2'] = df['age']**2\n",
    "df['educ2'] = df['educ']**2\n",
    "\n",
    "df['sex'] = 1\n",
    "pred = results.predict(df)\n",
    "plt.plot(df['age'], pred, label='Male')\n",
    "\n",
    "df['sex'] = 2\n",
    "pred = results.predict(df)\n",
    "plt.plot(df['age'], pred, label='Female')\n",
    "\n",
    "plt.xlabel('Age')\n",
    "plt.ylabel('Probability of Favoring Marijuana Legalization')\n",
    "plt.legend();"
   ]
  },
  {
   "cell_type": "markdown",
   "metadata": {},
   "source": [
    "We can see both from the data points and the models that as age increases, favorable opinions on marijuana decrease, and that roughly 8% more men favor maijuana compared to female respondents at any given age."
   ]
  },
  {
   "cell_type": "code",
   "execution_count": 61,
   "metadata": {},
   "outputs": [
    {
     "data": {
      "image/png": "[encoded data removed]",
      "text/plain": [
       "<Figure size 432x288 with 1 Axes>"
      ]
     },
     "metadata": {
      "needs_background": "light"
     },
     "output_type": "display_data"
    }
   ],
   "source": [
    "grouped = gss.groupby('educ')\n",
    "favor_by_educ = grouped['grass'].mean()\n",
    "plt.plot(favor_by_educ, 'o', alpha=0.5, label='Mean Grass')\n",
    "\n",
    "male = gss[gss['sex']==1]\n",
    "grouped = male.groupby('educ')\n",
    "male_favor_by_educ = grouped['grass'].mean()\n",
    "plt.plot(male_favor_by_educ, 'o', alpha=0.5, label='Mean Male Grass')\n",
    "\n",
    "female = gss[gss['sex']==2]\n",
    "grouped = female.groupby('educ')\n",
    "female_favor_by_educ = grouped['grass'].mean()\n",
    "plt.plot(female_favor_by_educ, 'o', alpha=0.5, label='Mean Female Grass')\n",
    "\n",
    "df = pd.DataFrame()\n",
    "df['educ'] = np.linspace(9, 19) #range of education levels; HS Feshman to Doctorate \n",
    "df['age'] = 40  #age held constant\n",
    "\n",
    "df['age2'] = df['age']**2\n",
    "df['educ2'] = df['educ']**2\n",
    "\n",
    "df['sex'] = 1\n",
    "pred = results.predict(df)\n",
    "plt.plot(df['educ'], pred, label='Male')\n",
    "\n",
    "df['sex'] = 2\n",
    "pred = results.predict(df)\n",
    "plt.plot(df['educ'], pred, label='Female')\n",
    "\n",
    "plt.xlabel('Education')\n",
    "plt.ylabel('Probability of Favoring Marijuana Legalization')\n",
    "plt.legend();"
   ]
  },
  {
   "cell_type": "markdown",
   "metadata": {},
   "source": [
    "As education increases, favorable opinions on legalization seem to increase nearly linearly. This plot suggests a significant correlation between education and favoriable opinions on legalization. This may be because those with higher levels of education are afforded the knowledge that weed (that is not laced/cut with anything dangerous) is not as dangerous as the public is led to believe, and might have more awarness around the fact that legalization would diminish these dangerous possibilities, all while making the government money. If this is the case, then there is no reason for percentage of favorable opinions to start decreasing at a certain education level which would be a parabolic behavior. "
   ]
  },
  {
   "cell_type": "code",
   "execution_count": null,
   "metadata": {},
   "outputs": [],
   "source": [
    "# Solution goes here"
   ]
  },
  {
   "cell_type": "code",
   "execution_count": null,
   "metadata": {},
   "outputs": [],
   "source": [
    "# Solution goes here"
   ]
  },
  {
   "cell_type": "code",
   "execution_count": null,
   "metadata": {},
   "outputs": [],
   "source": []
  }
 ],
 "metadata": {
  "kernelspec": {
   "display_name": "Python 3",
   "language": "python",
   "name": "python3"
  },
  "language_info": {
   "codemirror_mode": {
    "name": "ipython",
    "version": 3
   },
   "file_extension": ".py",
   "mimetype": "text/x-python",
   "name": "python",
   "nbconvert_exporter": "python",
   "pygments_lexer": "ipython3",
   "version": "3.6.8"
  }
 },
 "nbformat": 4,
 "nbformat_minor": 1
}
